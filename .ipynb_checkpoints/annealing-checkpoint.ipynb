{
 "cells": [
  {
   "cell_type": "code",
   "execution_count": 43,
   "metadata": {},
   "outputs": [],
   "source": [
    "import random\n",
    "import numpy as np\n",
    "import math\n",
    "import pandas as pd"
   ]
  },
  {
   "cell_type": "code",
   "execution_count": 44,
   "metadata": {},
   "outputs": [
    {
     "data": {
      "text/plain": [
       "[12, 42, 170, 186, 216, 439, 461, 476, 493, 540, 547, 566, 605, 755, 794]"
      ]
     },
     "execution_count": 44,
     "metadata": {},
     "output_type": "execute_result"
    }
   ],
   "source": [
    "with open('rowZip.csv', 'r') as file:\n",
    "    rows = file.readlines()\n",
    "rows = [[int(st) for st in row.split(',')] for row in rows]\n",
    "rows[0]"
   ]
  },
  {
   "cell_type": "code",
   "execution_count": 45,
   "metadata": {},
   "outputs": [
    {
     "data": {
      "text/plain": [
       "[0,\n",
       " 4,\n",
       " 5,\n",
       " 8,\n",
       " 10,\n",
       " 13,\n",
       " 18,\n",
       " 19,\n",
       " 23,\n",
       " 26,\n",
       " 32,\n",
       " 35,\n",
       " 36,\n",
       " 37,\n",
       " 51,\n",
       " 58,\n",
       " 60,\n",
       " 66,\n",
       " 82,\n",
       " 99,\n",
       " 110,\n",
       " 136,\n",
       " 253]"
      ]
     },
     "execution_count": 45,
     "metadata": {},
     "output_type": "execute_result"
    }
   ],
   "source": [
    "with open('colZip.csv', 'r') as file:\n",
    "    cols = file.readlines()\n",
    "cols = [[int(st) for st in col.split(',')] for col in cols]\n",
    "cols[0]"
   ]
  },
  {
   "cell_type": "markdown",
   "metadata": {},
   "source": [
    "def user_ranstr(num):\n",
    "    userID = ''\n",
    "    H = 'AB'\n",
    "    userID += random.choice(H)\n",
    "    H = '0123456789'\n",
    "    for i in range(num-1):\n",
    "        userID += random.choice(H)\n",
    "    return userID\n"
   ]
  },
  {
   "cell_type": "markdown",
   "metadata": {},
   "source": [
    "def item_ranstr(num):\n",
    "    itemID = ''\n",
    "    H = 'def'\n",
    "    itemID += random.choice(H)\n",
    "    H = '0123456789'\n",
    "    for i in range(num-1):\n",
    "        itemID += random.choice(H)\n",
    "    return itemID"
   ]
  },
  {
   "cell_type": "code",
   "execution_count": 46,
   "metadata": {},
   "outputs": [],
   "source": [
    "def initial_dataset(n,num,num2):\n",
    "    #n: grid width, num: length of user/item ID , num2: max_bicluster_width\n",
    "    bicluster = []\n",
    "    for i in range(n*n):\n",
    "        '''num_user = random.randrange(num2)\n",
    "        num_item = random.randrange(num2)\n",
    "        userID = []\n",
    "        itemID = []\n",
    "        j = 0\n",
    "        k = 0\n",
    "        while j < num_user:\n",
    "            try:\n",
    "                user = user_ranstr(num)\n",
    "                userID.index(user)\n",
    "            except:\n",
    "                userID.append(user)\n",
    "                j= j + 1 \n",
    "        while k < num_item:\n",
    "            try:\n",
    "                item = item_ranstr(num)\n",
    "                itemID.index(item)\n",
    "            except:\n",
    "                itemID.append(item)\n",
    "                k = k + 1'''\n",
    "        userID = rows[i]\n",
    "        itemID = cols[i]\n",
    "        single_set = [userID,itemID]\n",
    "        bicluster.append(single_set)\n",
    "    return bicluster"
   ]
  },
  {
   "cell_type": "code",
   "execution_count": 47,
   "metadata": {},
   "outputs": [],
   "source": [
    "def reward_func(set1,set2):   \n",
    "    intersection = 0\n",
    "    for i in range(len(set2)):\n",
    "        try:\n",
    "            set1.index(set2[i])\n",
    "            intersection = intersection + 1\n",
    "     #       print(set2[i])\n",
    "        except:\n",
    "            pass \n",
    "   ## print(\"交:\",intersection)\n",
    "   # print(\"並:\",(len(set1)+len(set2)-intersection))\n",
    "    try:\n",
    "        reward = intersection/(len(set1)+len(set2)-intersection)\n",
    "    except:\n",
    "        reward = 1\n",
    "    return round(reward,3)"
   ]
  },
  {
   "cell_type": "code",
   "execution_count": 48,
   "metadata": {},
   "outputs": [],
   "source": [
    "def gen_gridworld(width, data):\n",
    "    left_num = width*width\n",
    "    gridworld = [[0 for col in range(width)] for row in range(width)]\n",
    "    for i in range(width):\n",
    "        for j in range(width):\n",
    "            num = random.randrange(left_num)\n",
    "            gridworld[i][j] = data[num]\n",
    "            data.remove( data[num])\n",
    "            left_num = left_num - 1\n",
    "    return gridworld"
   ]
  },
  {
   "cell_type": "code",
   "execution_count": 49,
   "metadata": {},
   "outputs": [],
   "source": [
    "def gen_reward_grid(gridworld,width):\n",
    "    grid_reward = [[0 for col in range(width)] for row in range(width)]\n",
    "    for i in range(width):\n",
    "        for j in range(width):\n",
    "            reward=[]\n",
    "            #print(\"i=\",i,\"j=\",j)\n",
    "            if j%width == width-1:\n",
    "                if i == 0:\n",
    "                    reward.append(0)\n",
    "                    reward.append(reward_func(gridworld[i][j][0],gridworld[i+1][j][0]))                       \n",
    "                    reward.append(reward_func(gridworld[i][j][0],gridworld[i][j-1][0]))\n",
    "                    reward.append(0)\n",
    "                elif i == width-1:\n",
    "                    reward.append(reward_func(gridworld[i][j][0],gridworld[i-1][j][0]))\n",
    "                    reward.append(0)                        \n",
    "                    reward.append(reward_func(gridworld[i][j][0],gridworld[i][j-1][0]))\n",
    "                    reward.append(0)  \n",
    "                else:\n",
    "                    reward.append(reward_func(gridworld[i][j][0],gridworld[i-1][j][0]))\n",
    "                    reward.append(reward_func(gridworld[i][j][0],gridworld[i+1][j][0]))                       \n",
    "                    reward.append(reward_func(gridworld[i][j][0],gridworld[i][j-1][0]))\n",
    "                    reward.append(0)       \n",
    "            elif j%width == 0:\n",
    "                if i == 0:\n",
    "                    reward.append(0)\n",
    "                    reward.append(reward_func(gridworld[i][j][0],gridworld[i+1][j][0]))                        \n",
    "                    reward.append(0)\n",
    "                    reward.append(reward_func(gridworld[i][j][0],gridworld[i][j+1][0]))  \n",
    "                elif i == width-1:\n",
    "                    reward.append(reward_func(gridworld[i][j][0],gridworld[i-1][j][0]))\n",
    "                    reward.append(0)                        \n",
    "                    reward.append(0)\n",
    "                    reward.append(reward_func(gridworld[i][j][0],gridworld[i][j+1][0]))  \n",
    "                else:\n",
    "                    reward.append(reward_func(gridworld[i][j][0],gridworld[i-1][j][0]))\n",
    "                    reward.append(reward_func(gridworld[i][j][0],gridworld[i+1][j][0]))                        \n",
    "                    reward.append(0)\n",
    "                    reward.append(reward_func(gridworld[i][j][0],gridworld[i][j+1][0]))    \n",
    "            else: \n",
    "                if i == 0:\n",
    "                    reward.append(0)\n",
    "                    reward.append(reward_func(gridworld[i][j][0],gridworld[i+1][j][0]))                       \n",
    "                    reward.append(reward_func(gridworld[i][j][0],gridworld[i][j-1][0]))\n",
    "                    reward.append(reward_func(gridworld[i][j][0],gridworld[i][j+1][0]))\n",
    "                elif i == width-1:\n",
    "                    reward.append(reward_func(gridworld[i][j][0],gridworld[i-1][j][0]))\n",
    "                    reward.append(0)                        \n",
    "                    reward.append(reward_func(gridworld[i][j][0],gridworld[i][j-1][0]))\n",
    "                    reward.append(reward_func(gridworld[i][j][0],gridworld[i][j+1][0]))\n",
    "                else:\n",
    "                    reward.append(reward_func(gridworld[i][j][0],gridworld[i-1][j][0]))\n",
    "                    reward.append(reward_func(gridworld[i][j][0],gridworld[i+1][j][0]))                       \n",
    "                    reward.append(reward_func(gridworld[i][j][0],gridworld[i][j-1][0]))\n",
    "                    reward.append(reward_func(gridworld[i][j][0],gridworld[i][j+1][0]))   \n",
    "            grid_reward[i][j] = reward\n",
    "    return grid_reward"
   ]
  },
  {
   "cell_type": "code",
   "execution_count": 50,
   "metadata": {},
   "outputs": [],
   "source": [
    "def total_reward(grid_reward):\n",
    "    return np.sum(grid_reward)"
   ]
  },
  {
   "cell_type": "code",
   "execution_count": 51,
   "metadata": {},
   "outputs": [],
   "source": [
    "def hilclimb(tot_reward,reward_grid,data_grid,width,alpha, beta,iteration):\n",
    "    i = random.randrange(width)\n",
    "    j = random.randrange(width)\n",
    "    i2 = random.randrange(width)\n",
    "    j2 = random.randrange(width)\n",
    "    data_grid[i][j], data_grid[i2][j2] =  data_grid[i2][j2], data_grid[i][j]\n",
    "    reward_update(reward_grid,data_grid,i,j, width)\n",
    "    reward_update(reward_grid,data_grid,i2,j2, width)\n",
    "    new_tot_reward = total_reward(reward_grid)\n",
    "    P_k = 1.0-beta*alpha**iteration\n",
    "    #print(\"P_k:\",P_k)\n",
    "    backfire = random.random()\n",
    "   # print(\"backfire:\",backfire)\n",
    "    T = 10000000\n",
    "    flag = (iteration % T == 0)\n",
    "    if P_k < backfire:\n",
    "        if flag:\n",
    "            print(\"backfire,old:\",tot_reward,\" new:\",new_tot_reward)\n",
    "        return new_tot_reward, 1\n",
    "    else: \n",
    "        if new_tot_reward > tot_reward:\n",
    "            if flag:\n",
    "                print(\"update:\",new_tot_reward)\n",
    "            return new_tot_reward, 1\n",
    "        else:\n",
    "            if flag:\n",
    "                print(\"non_update:\",tot_reward,\" new:F\",new_tot_reward)\n",
    "            data_grid[i][j],  data_grid[i2][j2] =   data_grid[i2][j2],  data_grid[i][j]\n",
    "            reward_update(reward_grid,data_grid,i,j, width)\n",
    "            reward_update(reward_grid,data_grid,i2,j2, width)\n",
    "            return tot_reward, 0"
   ]
  },
  {
   "cell_type": "code",
   "execution_count": 52,
   "metadata": {},
   "outputs": [],
   "source": [
    "def reward_update(grid_reward,gridworld,x,y, width):\n",
    "    x_update = [x-1,x,x+1,x,x]\n",
    "    y_update = [y,y,y,y-1,y+1]\n",
    "    for i, j in zip(x_update, y_update):\n",
    "        reward=[]\n",
    "        #print(\"i=\",i,\"j=\",j)\n",
    "        if i < 0 or i > width-1 or j < 0 or j> width-1:\n",
    "           # print(\"i=\",i,\"j=\",j)\n",
    "            continue\n",
    "        if j%width == width-1:\n",
    "            if i == 0:\n",
    "                reward.append(0)\n",
    "                reward.append(reward_func(gridworld[i][j][0],gridworld[i+1][j][0]))                       \n",
    "                reward.append(reward_func(gridworld[i][j][0],gridworld[i][j-1][0]))\n",
    "                reward.append(0)\n",
    "            elif i == width-1:\n",
    "                reward.append(reward_func(gridworld[i][j][0],gridworld[i-1][j][0]))\n",
    "                reward.append(0)                        \n",
    "                reward.append(reward_func(gridworld[i][j][0],gridworld[i][j-1][0]))\n",
    "                reward.append(0)  \n",
    "            else:\n",
    "                reward.append(reward_func(gridworld[i][j][0],gridworld[i-1][j][0]))\n",
    "                reward.append(reward_func(gridworld[i][j][0],gridworld[i+1][j][0]))                       \n",
    "                reward.append(reward_func(gridworld[i][j][0],gridworld[i][j-1][0]))\n",
    "                reward.append(0)       \n",
    "        elif j%width == 0:\n",
    "            if i == 0:\n",
    "                reward.append(0)\n",
    "                reward.append(reward_func(gridworld[i][j][0],gridworld[i+1][j][0]))                        \n",
    "                reward.append(0)\n",
    "                reward.append(reward_func(gridworld[i][j][0],gridworld[i][j+1][0]))  \n",
    "            elif i == width-1:\n",
    "                reward.append(reward_func(gridworld[i][j][0],gridworld[i-1][j][0]))\n",
    "                reward.append(0)                        \n",
    "                reward.append(0)\n",
    "                reward.append(reward_func(gridworld[i][j][0],gridworld[i][j+1][0]))  \n",
    "            else:\n",
    "                reward.append(reward_func(gridworld[i][j][0],gridworld[i-1][j][0]))\n",
    "                reward.append(reward_func(gridworld[i][j][0],gridworld[i+1][j][0]))                        \n",
    "                reward.append(0)\n",
    "                reward.append(reward_func(gridworld[i][j][0],gridworld[i][j+1][0]))    \n",
    "        else: \n",
    "            if i == 0:\n",
    "                reward.append(0)\n",
    "                reward.append(reward_func(gridworld[i][j][0],gridworld[i+1][j][0]))                       \n",
    "                reward.append(reward_func(gridworld[i][j][0],gridworld[i][j-1][0]))\n",
    "                reward.append(reward_func(gridworld[i][j][0],gridworld[i][j+1][0]))\n",
    "            elif i == width-1:\n",
    "                reward.append(reward_func(gridworld[i][j][0],gridworld[i-1][j][0]))\n",
    "                reward.append(0)                        \n",
    "                reward.append(reward_func(gridworld[i][j][0],gridworld[i][j-1][0]))\n",
    "                reward.append(reward_func(gridworld[i][j][0],gridworld[i][j+1][0]))\n",
    "            else:\n",
    "                reward.append(reward_func(gridworld[i][j][0],gridworld[i-1][j][0]))\n",
    "                reward.append(reward_func(gridworld[i][j][0],gridworld[i+1][j][0]))                       \n",
    "                reward.append(reward_func(gridworld[i][j][0],gridworld[i][j-1][0]))\n",
    "                reward.append(reward_func(gridworld[i][j][0],gridworld[i][j+1][0]))   \n",
    "        grid_reward[i][j] = reward"
   ]
  },
  {
   "cell_type": "code",
   "execution_count": null,
   "metadata": {
    "scrolled": true
   },
   "outputs": [
    {
     "name": "stdout",
     "output_type": "stream",
     "text": [
      "685.142\n",
      "0.6380652137540963 715.8299999999999\n",
      "0.67250802626283 735.936\n",
      "0.7036731562204706 736.578\n",
      "0.7318725178443317 730.342\n",
      "0.7573883426483397 744.188\n",
      "0.780476004139156 752.026\n",
      "0.8013665737056469 768.646\n",
      "0.8202691332821546 755.992\n",
      "0.8373728679317141 773.146\n",
      "0.8528489592927013 760.704\n",
      "0.866852298839354 777.1999999999999\n",
      "0.8795230381032203 790.742\n",
      "0.8909879913708328 779.548\n",
      "0.9013619048964144 825.3499999999999\n",
      "0.9107486053324516 801.358\n",
      "0.9192420388721302 814.9179999999999\n",
      "0.9269272115038236 828.6959999999999\n",
      "0.9338810397881107 838.0919999999999\n",
      "0.9401731206722711 827.9699999999999\n",
      "0.9458664280468974 831.8519999999999\n",
      "0.9510179430160663 844.0439999999999\n",
      "0.9556792241890882 862.7759999999998\n",
      "0.9598969237015627 860.6599999999999\n",
      "0.9637132541303047 861.6579999999999\n",
      "0.967166410975231 870.2719999999999\n",
      "0.970290954936586 895.3399999999999\n",
      "0.9731181578135083 891.536\n",
      "0.97567631548584 888.17\n",
      "0.9779910311116368 894.822\n",
      "0.9800854713747438 913.7739999999999\n",
      "0.981980598347075 907.598\n",
      "0.9836953792861737 931.986\n",
      "0.9852469764678018 939.262\n",
      "0.9866509189534827 926.962\n",
      "0.9879212580121238 925.078\n",
      "0.9890707077512465 935.358\n",
      "0.990110772365321 947.5939999999998\n",
      "0.9910518612747634 958.4879999999999\n",
      "0.991903393307957 983.6339999999999\n",
      "0.9926738909689956 971.486\n",
      "0.9933710657346232 993.338\n",
      "0.9940018952340567 991.4999999999999\n",
      "0.9945726930841444 1018.242\n",
      "0.9950891720787972 1014.3059999999998\n",
      "0.9955565013651226 1025.366\n",
      "0.9959793581785042 1007.3639999999999\n",
      "0.996361974654414 1027.516\n",
      "0.9967081801854704 1039.824\n",
      "0.9970214397476704 1051.032\n",
      "0.9973048885793814 1051.1019999999999\n",
      "0.9975613635601738 1035.2\n",
      "0.99779343160355 1065.826\n",
      "0.9980034153477348 1046.374\n",
      "0.9981934164016514 1059.5819999999999\n",
      "0.9983653363787408 1059.898\n",
      "0.9985208959291391 1088.136\n",
      "0.9986616519606937 1081.05\n",
      "0.9987890132211776 1084.926\n",
      "0.9989042543976508 1083.964\n",
      "0.9990085288740846 1098.51\n",
      "0.9991028802749321 1116.34\n",
      "0.9991882529101764 1121.484\n"
     ]
    }
   ],
   "source": [
    "width = 20\n",
    "id_length = 2\n",
    "max_bicluster_width = 20\n",
    "beta = 0.4\n",
    "stop_value = 10000\n",
    "\n",
    "data = initial_dataset(width,id_length,max_bicluster_width)\n",
    "data_grid = gen_gridworld(width, data)\n",
    "reward_grid = gen_reward_grid(data_grid,width)\n",
    "tot_reward = total_reward(reward_grid)\n",
    "print(tot_reward)\n",
    "stop = 0\n",
    "alpha = 0.99999"
   ]
  },
  {
   "cell_type": "code",
   "execution_count": null,
   "metadata": {},
   "outputs": [],
   "source": [
    "iteration = 0\n",
    "while stop < stop_value:\n",
    "    iteration = iteration + 1\n",
    "    tot_reward, update_bool = hilclimb(tot_reward,reward_grid,data_grid,width,alpha, beta, iteration)\n",
    "    P_k = 1.0-beta*alpha**iteration\n",
    "    if update_bool == 1:\n",
    "        stop = 0\n",
    "    else:\n",
    "        stop = stop+1\n",
    "    if iteration % 10000 == 0:\n",
    "        print(P_k, tot_reward)\n",
    "    if 1 - P_k < 1e-5:\n",
    "        break\n",
    "    #print(\"real: \", total_reward(gen_reward_grid(data_grid,width)))\n",
    "print(tot_reward)"
   ]
  },
  {
   "cell_type": "code",
   "execution_count": 54,
   "metadata": {},
   "outputs": [
    {
     "data": {
      "text/plain": [
       "1186.1760000000002"
      ]
     },
     "execution_count": 54,
     "metadata": {},
     "output_type": "execute_result"
    }
   ],
   "source": [
    "total_reward(gen_reward_grid(data_grid,width))"
   ]
  },
  {
   "cell_type": "code",
   "execution_count": 55,
   "metadata": {},
   "outputs": [
    {
     "data": {
      "text/plain": [
       "[[42, 119, 170, 216, 284, 320, 439, 461, 493, 518, 540, 547, 694, 706, 771],\n",
       " [0,\n",
       "  1,\n",
       "  2,\n",
       "  3,\n",
       "  5,\n",
       "  6,\n",
       "  7,\n",
       "  8,\n",
       "  10,\n",
       "  11,\n",
       "  12,\n",
       "  14,\n",
       "  15,\n",
       "  18,\n",
       "  23,\n",
       "  26,\n",
       "  28,\n",
       "  36,\n",
       "  39,\n",
       "  49,\n",
       "  51,\n",
       "  71,\n",
       "  76]]"
      ]
     },
     "execution_count": 55,
     "metadata": {},
     "output_type": "execute_result"
    }
   ],
   "source": [
    "data_grid[0][1]"
   ]
  },
  {
   "cell_type": "code",
   "execution_count": 56,
   "metadata": {},
   "outputs": [],
   "source": [
    "import pickle\n",
    "\n",
    "f1 = open(\"dic\", \"rb\")\n",
    "f2 = open(\"dic_inv\", \"rb\")\n",
    "dic = pickle.load(f1)\n",
    "dic_inv = pickle.load(f2)\n",
    "f1.close()\n",
    "f2.close()"
   ]
  },
  {
   "cell_type": "code",
   "execution_count": 57,
   "metadata": {},
   "outputs": [],
   "source": [
    "real_grid = [[[data_grid[k][j][0], [dic_inv[i] for i in data_grid[j][k][1]]] for j in range(width)] for k in range(width)]"
   ]
  },
  {
   "cell_type": "code",
   "execution_count": 58,
   "metadata": {},
   "outputs": [],
   "source": [
    "f = open(\"grid\", \"wb\")\n",
    "pickle.dump(real_grid, f)\n",
    "f.close()"
   ]
  },
  {
   "cell_type": "code",
   "execution_count": 59,
   "metadata": {},
   "outputs": [],
   "source": [
    "f = open(\"grid\", \"rb\")\n",
    "pickle.load(f) == real_grid\n",
    "f.close()"
   ]
  },
  {
   "cell_type": "code",
   "execution_count": null,
   "metadata": {},
   "outputs": [],
   "source": []
  },
  {
   "cell_type": "code",
   "execution_count": null,
   "metadata": {},
   "outputs": [],
   "source": []
  }
 ],
 "metadata": {
  "kernelspec": {
   "display_name": "Python 3",
   "language": "python",
   "name": "python3"
  },
  "language_info": {
   "codemirror_mode": {
    "name": "ipython",
    "version": 3
   },
   "file_extension": ".py",
   "mimetype": "text/x-python",
   "name": "python",
   "nbconvert_exporter": "python",
   "pygments_lexer": "ipython3",
   "version": "3.7.6"
  }
 },
 "nbformat": 4,
 "nbformat_minor": 2
}
