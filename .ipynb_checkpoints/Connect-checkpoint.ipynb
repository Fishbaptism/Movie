{
 "cells": [
  {
   "cell_type": "code",
   "execution_count": 3,
   "metadata": {},
   "outputs": [],
   "source": [
    "import pickle\n",
    "import numpy as np\n",
    "width = 20"
   ]
  },
  {
   "cell_type": "code",
   "execution_count": 4,
   "metadata": {},
   "outputs": [],
   "source": [
    "def connect(grid, gird2):\n",
    "    pos = []\n",
    "    for i in range(width):\n",
    "        tmp = []\n",
    "        for j in range(width):\n",
    "            for k in range(width):\n",
    "                l = 0\n",
    "                for l in range(width):\n",
    "                    if set(grid2[k][l][0]) == set(grid[i][j][0]) and set(grid2[k][l][1]) == set(grid[i][j][1]):\n",
    "                        tmp.append((k, l))\n",
    "                        break\n",
    "                if l < width - 1:\n",
    "                    break\n",
    "        pos.append(tmp)\n",
    "    return pos"
   ]
  },
  {
   "cell_type": "code",
   "execution_count": 5,
   "metadata": {},
   "outputs": [],
   "source": [
    "f = open(\"grid\",\"rb\")\n",
    "grid = pickle.load(f)\n",
    "f.close()"
   ]
  },
  {
   "cell_type": "code",
   "execution_count": 6,
   "metadata": {},
   "outputs": [],
   "source": [
    "f = open(\"grid1\",\"rb\")\n",
    "grid1 = pickle.load(f)\n",
    "f.close()"
   ]
  },
  {
   "cell_type": "code",
   "execution_count": 7,
   "metadata": {},
   "outputs": [],
   "source": [
    "f = open(\"grid2\",\"rb\")\n",
    "grid2 = pickle.load(f)\n",
    "f.close()"
   ]
  },
  {
   "cell_type": "code",
   "execution_count": 9,
   "metadata": {},
   "outputs": [],
   "source": [
    "pos1 = connect(grid, grid1)\n",
    "pos2 = connect(grid, grid2)\n",
    "pos = [pos1, pos2]\n",
    "f = open(\"pos\",\"wb\")\n",
    "pickle.dump(pos, f)\n",
    "f.close()"
   ]
  },
  {
   "cell_type": "code",
   "execution_count": 8,
   "metadata": {},
   "outputs": [
    {
     "data": {
      "text/plain": [
       "14"
      ]
     },
     "execution_count": 8,
     "metadata": {},
     "output_type": "execute_result"
    }
   ],
   "source": [
    "len(grid2[1][1][0])"
   ]
  },
  {
   "cell_type": "code",
   "execution_count": 9,
   "metadata": {},
   "outputs": [
    {
     "name": "stdout",
     "output_type": "stream",
     "text": [
      "18 10\n"
     ]
    }
   ],
   "source": [
    "for k in range(width):\n",
    "    l = 0\n",
    "    for l in range(width):\n",
    "        if grid2[k][l][1] == grid[0][0][1]:# and set(grid2[k][l][1]) == set(grid[0][0][1]):\n",
    "            print(k, l)"
   ]
  },
  {
   "cell_type": "code",
   "execution_count": 10,
   "metadata": {},
   "outputs": [
    {
     "data": {
      "text/plain": [
       "[20,\n",
       " 20,\n",
       " 20,\n",
       " 20,\n",
       " 20,\n",
       " 20,\n",
       " 20,\n",
       " 20,\n",
       " 20,\n",
       " 20,\n",
       " 20,\n",
       " 20,\n",
       " 20,\n",
       " 20,\n",
       " 20,\n",
       " 20,\n",
       " 20,\n",
       " 20,\n",
       " 20,\n",
       " 20]"
      ]
     },
     "execution_count": 10,
     "metadata": {},
     "output_type": "execute_result"
    }
   ],
   "source": [
    "[len(i) for i in pos]"
   ]
  },
  {
   "cell_type": "code",
   "execution_count": 11,
   "metadata": {},
   "outputs": [
    {
     "data": {
      "text/plain": [
       "[[79, 90, 106, 151, 274, 332, 358, 398, 438, 446, 464, 510, 648, 707],\n",
       " [318,\n",
       "  356,\n",
       "  2571,\n",
       "  260,\n",
       "  480,\n",
       "  589,\n",
       "  2959,\n",
       "  1196,\n",
       "  1210,\n",
       "  1,\n",
       "  4993,\n",
       "  2858,\n",
       "  7153,\n",
       "  1270,\n",
       "  5952,\n",
       "  2762,\n",
       "  1580,\n",
       "  541,\n",
       "  6539,\n",
       "  6377,\n",
       "  8961,\n",
       "  4963,\n",
       "  3114,\n",
       "  8636]]"
      ]
     },
     "execution_count": 11,
     "metadata": {},
     "output_type": "execute_result"
    }
   ],
   "source": [
    "grid[3][4]"
   ]
  },
  {
   "cell_type": "code",
   "execution_count": 10,
   "metadata": {},
   "outputs": [
    {
     "data": {
      "text/plain": [
       "3"
      ]
     },
     "execution_count": 10,
     "metadata": {},
     "output_type": "execute_result"
    }
   ],
   "source": []
  },
  {
   "cell_type": "code",
   "execution_count": null,
   "metadata": {},
   "outputs": [],
   "source": []
  },
  {
   "cell_type": "code",
   "execution_count": null,
   "metadata": {},
   "outputs": [],
   "source": []
  }
 ],
 "metadata": {
  "kernelspec": {
   "display_name": "Python 3",
   "language": "python",
   "name": "python3"
  },
  "language_info": {
   "codemirror_mode": {
    "name": "ipython",
    "version": 3
   },
   "file_extension": ".py",
   "mimetype": "text/x-python",
   "name": "python",
   "nbconvert_exporter": "python",
   "pygments_lexer": "ipython3",
   "version": "3.7.6"
  }
 },
 "nbformat": 4,
 "nbformat_minor": 4
}
