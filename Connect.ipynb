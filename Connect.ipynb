{
 "cells": [
  {
   "cell_type": "code",
   "execution_count": 21,
   "metadata": {},
   "outputs": [],
   "source": [
    "import pickle\n",
    "import numpy as np\n",
    "width = 20"
   ]
  },
  {
   "cell_type": "code",
   "execution_count": 75,
   "metadata": {},
   "outputs": [],
   "source": [
    "def connect(grid, gird2):\n",
    "    pos = []\n",
    "    for i in range(width):\n",
    "        tmp = []\n",
    "        for j in range(width):\n",
    "            for k in range(width):\n",
    "                l = 0\n",
    "                for l in range(width):\n",
    "                    if set(grid2[k][l][0]) == set(grid[i][j][0]) and set(grid2[k][l][1]) == set(grid[i][j][1]):\n",
    "                        print('yes')\n",
    "                        tmp.append((k, l))\n",
    "                        break\n",
    "                if l < width - 1:\n",
    "                    break\n",
    "        pos.append(tmp)\n",
    "    return pos"
   ]
  },
  {
   "cell_type": "code",
   "execution_count": 128,
   "metadata": {},
   "outputs": [],
   "source": [
    "f = open(\"grid2\",\"rb\")\n",
    "grid = pickle.load(f)\n",
    "f.close()"
   ]
  },
  {
   "cell_type": "code",
   "execution_count": 129,
   "metadata": {},
   "outputs": [],
   "source": [
    "f = open(\"grid3\",\"rb\")\n",
    "grid2 = pickle.load(f)\n",
    "f.close()"
   ]
  },
  {
   "cell_type": "code",
   "execution_count": 130,
   "metadata": {},
   "outputs": [
    {
     "data": {
      "text/plain": [
       "[[],\n",
       " [],\n",
       " [],\n",
       " [],\n",
       " [],\n",
       " [],\n",
       " [],\n",
       " [],\n",
       " [],\n",
       " [],\n",
       " [],\n",
       " [],\n",
       " [],\n",
       " [],\n",
       " [],\n",
       " [],\n",
       " [],\n",
       " [],\n",
       " [],\n",
       " []]"
      ]
     },
     "execution_count": 130,
     "metadata": {},
     "output_type": "execute_result"
    }
   ],
   "source": [
    "pos = connect(grid, grid2)\n",
    "pos"
   ]
  },
  {
   "cell_type": "code",
   "execution_count": 131,
   "metadata": {},
   "outputs": [
    {
     "data": {
      "text/plain": [
       "15"
      ]
     },
     "execution_count": 131,
     "metadata": {},
     "output_type": "execute_result"
    }
   ],
   "source": [
    "len(grid2[1][1][0])"
   ]
  },
  {
   "cell_type": "code",
   "execution_count": 133,
   "metadata": {},
   "outputs": [
    {
     "name": "stdout",
     "output_type": "stream",
     "text": [
      "6 1\n"
     ]
    }
   ],
   "source": [
    "for k in range(width):\n",
    "    l = 0\n",
    "    for l in range(width):\n",
    "        if grid2[k][l][0] == grid[2][14][0]:# and set(grid2[k][l][1]) == set(grid[0][0][1]):\n",
    "            print(k, l)"
   ]
  },
  {
   "cell_type": "code",
   "execution_count": 90,
   "metadata": {},
   "outputs": [
    {
     "data": {
      "text/plain": [
       "[[12, 42, 69, 170, 186, 216, 320, 439, 461, 476, 493, 540, 547, 571, 625],\n",
       " [356,\n",
       "  296,\n",
       "  318,\n",
       "  593,\n",
       "  2571,\n",
       "  480,\n",
       "  260,\n",
       "  110,\n",
       "  1196,\n",
       "  1210,\n",
       "  1198,\n",
       "  32,\n",
       "  1270,\n",
       "  2028,\n",
       "  2762,\n",
       "  592,\n",
       "  1291,\n",
       "  1240,\n",
       "  1097,\n",
       "  1089,\n",
       "  2716,\n",
       "  2115,\n",
       "  2916]]"
      ]
     },
     "execution_count": 90,
     "metadata": {},
     "output_type": "execute_result"
    }
   ],
   "source": [
    "grid2[12][5]"
   ]
  },
  {
   "cell_type": "code",
   "execution_count": 92,
   "metadata": {},
   "outputs": [
    {
     "data": {
      "text/plain": [
       "[[12, 42, 69, 170, 186, 216, 320, 439, 461, 476, 493, 540, 547, 571, 625],\n",
       " [356,\n",
       "  318,\n",
       "  593,\n",
       "  2571,\n",
       "  480,\n",
       "  110,\n",
       "  1196,\n",
       "  1198,\n",
       "  1270,\n",
       "  2028,\n",
       "  4306,\n",
       "  3578,\n",
       "  1580,\n",
       "  4226,\n",
       "  1265,\n",
       "  1291,\n",
       "  1240,\n",
       "  6377,\n",
       "  2716,\n",
       "  8961,\n",
       "  3147,\n",
       "  5418,\n",
       "  2115]]"
      ]
     },
     "execution_count": 92,
     "metadata": {},
     "output_type": "execute_result"
    }
   ],
   "source": [
    "grid[0][0]"
   ]
  },
  {
   "cell_type": "code",
   "execution_count": 144,
   "metadata": {},
   "outputs": [
    {
     "data": {
      "text/plain": [
       "2"
      ]
     },
     "execution_count": 144,
     "metadata": {},
     "output_type": "execute_result"
    }
   ],
   "source": [
    "import random\n",
    "random.randrange(10)"
   ]
  },
  {
   "cell_type": "code",
   "execution_count": null,
   "metadata": {},
   "outputs": [],
   "source": []
  }
 ],
 "metadata": {
  "kernelspec": {
   "display_name": "Python 3",
   "language": "python",
   "name": "python3"
  },
  "language_info": {
   "codemirror_mode": {
    "name": "ipython",
    "version": 3
   },
   "file_extension": ".py",
   "mimetype": "text/x-python",
   "name": "python",
   "nbconvert_exporter": "python",
   "pygments_lexer": "ipython3",
   "version": "3.7.6"
  }
 },
 "nbformat": 4,
 "nbformat_minor": 4
}
