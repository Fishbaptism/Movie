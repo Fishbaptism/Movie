{
 "cells": [
  {
   "cell_type": "code",
   "execution_count": 3,
   "metadata": {},
   "outputs": [],
   "source": [
    "import random\n",
    "import numpy as np\n",
    "import math\n",
    "import pandas as pd"
   ]
  },
  {
   "cell_type": "code",
   "execution_count": 4,
   "metadata": {},
   "outputs": [
    {
     "data": {
      "text/plain": [
       "[11, 42, 71, 108, 119, 174, 215, 246, 284, 461, 540, 547, 641, 755, 756]"
      ]
     },
     "execution_count": 4,
     "metadata": {},
     "output_type": "execute_result"
    }
   ],
   "source": [
    "with open('rowZip.csv', 'r') as file:\n",
    "    rows = file.readlines()\n",
    "rows = [[int(st) for st in row.split(',')] for row in rows]\n",
    "rows[0]"
   ]
  },
  {
   "cell_type": "code",
   "execution_count": 5,
   "metadata": {},
   "outputs": [
    {
     "data": {
      "text/plain": [
       "[0, 1, 2, 3, 5, 6, 7, 11, 12, 16, 20, 26, 27, 37, 47, 48, 50, 113, 125, 128]"
      ]
     },
     "execution_count": 5,
     "metadata": {},
     "output_type": "execute_result"
    }
   ],
   "source": [
    "with open('colZip.csv', 'r') as file:\n",
    "    cols = file.readlines()\n",
    "cols = [[int(st) for st in col.split(',')] for col in cols]\n",
    "cols[0]"
   ]
  },
  {
   "cell_type": "markdown",
   "metadata": {},
   "source": [
    "def user_ranstr(num):\n",
    "    userID = ''\n",
    "    H = 'AB'\n",
    "    userID += random.choice(H)\n",
    "    H = '0123456789'\n",
    "    for i in range(num-1):\n",
    "        userID += random.choice(H)\n",
    "    return userID\n"
   ]
  },
  {
   "cell_type": "markdown",
   "metadata": {},
   "source": [
    "def item_ranstr(num):\n",
    "    itemID = ''\n",
    "    H = 'def'\n",
    "    itemID += random.choice(H)\n",
    "    H = '0123456789'\n",
    "    for i in range(num-1):\n",
    "        itemID += random.choice(H)\n",
    "    return itemID"
   ]
  },
  {
   "cell_type": "code",
   "execution_count": 6,
   "metadata": {},
   "outputs": [],
   "source": [
    "def initial_dataset(n,num,num2):\n",
    "    #n: grid width, num: length of user/item ID , num2: max_bicluster_width\n",
    "    bicluster = []\n",
    "    for i in range(n*n):\n",
    "        '''num_user = random.randrange(num2)\n",
    "        num_item = random.randrange(num2)\n",
    "        userID = []\n",
    "        itemID = []\n",
    "        j = 0\n",
    "        k = 0\n",
    "        while j < num_user:\n",
    "            try:\n",
    "                user = user_ranstr(num)\n",
    "                userID.index(user)\n",
    "            except:\n",
    "                userID.append(user)\n",
    "                j= j + 1 \n",
    "        while k < num_item:\n",
    "            try:\n",
    "                item = item_ranstr(num)\n",
    "                itemID.index(item)\n",
    "            except:\n",
    "                itemID.append(item)\n",
    "                k = k + 1'''\n",
    "        userID = rows[i]\n",
    "        itemID = cols[i]\n",
    "        single_set = [userID,itemID]\n",
    "        bicluster.append(single_set)\n",
    "    return bicluster"
   ]
  },
  {
   "cell_type": "code",
   "execution_count": 7,
   "metadata": {},
   "outputs": [],
   "source": [
    "def reward_func(set1,set2):   \n",
    "    intersection = 0\n",
    "    for i in range(len(set2)):\n",
    "        try:\n",
    "            set1.index(set2[i])\n",
    "            intersection = intersection + 1\n",
    "     #       print(set2[i])\n",
    "        except:\n",
    "            pass \n",
    "   ## print(\"交:\",intersection)\n",
    "   # print(\"並:\",(len(set1)+len(set2)-intersection))\n",
    "    try:\n",
    "        reward = intersection/(len(set1)+len(set2)-intersection)\n",
    "    except:\n",
    "        reward = 1\n",
    "    return round(reward,3)"
   ]
  },
  {
   "cell_type": "code",
   "execution_count": 8,
   "metadata": {},
   "outputs": [],
   "source": [
    "def gen_gridworld(width, data):\n",
    "    left_num = width*width\n",
    "    gridworld = [[0 for col in range(width)] for row in range(width)]\n",
    "    for i in range(width):\n",
    "        for j in range(width):\n",
    "            num = random.randrange(left_num)\n",
    "            gridworld[i][j] = data[num]\n",
    "            data.remove( data[num])\n",
    "            left_num = left_num - 1\n",
    "    return gridworld"
   ]
  },
  {
   "cell_type": "code",
   "execution_count": 9,
   "metadata": {},
   "outputs": [],
   "source": [
    "def gen_reward_grid(gridworld,width):\n",
    "    grid_reward = [[0 for col in range(width)] for row in range(width)]\n",
    "    for i in range(width):\n",
    "        for j in range(width):\n",
    "            reward=[]\n",
    "            #print(\"i=\",i,\"j=\",j)\n",
    "            if j%width == width-1:\n",
    "                if i == 0:\n",
    "                    reward.append(0)\n",
    "                    reward.append(reward_func(gridworld[i][j][0],gridworld[i+1][j][0]))                       \n",
    "                    reward.append(reward_func(gridworld[i][j][0],gridworld[i][j-1][0]))\n",
    "                    reward.append(0)\n",
    "                elif i == width-1:\n",
    "                    reward.append(reward_func(gridworld[i][j][0],gridworld[i-1][j][0]))\n",
    "                    reward.append(0)                        \n",
    "                    reward.append(reward_func(gridworld[i][j][0],gridworld[i][j-1][0]))\n",
    "                    reward.append(0)  \n",
    "                else:\n",
    "                    reward.append(reward_func(gridworld[i][j][0],gridworld[i-1][j][0]))\n",
    "                    reward.append(reward_func(gridworld[i][j][0],gridworld[i+1][j][0]))                       \n",
    "                    reward.append(reward_func(gridworld[i][j][0],gridworld[i][j-1][0]))\n",
    "                    reward.append(0)       \n",
    "            elif j%width == 0:\n",
    "                if i == 0:\n",
    "                    reward.append(0)\n",
    "                    reward.append(reward_func(gridworld[i][j][0],gridworld[i+1][j][0]))                        \n",
    "                    reward.append(0)\n",
    "                    reward.append(reward_func(gridworld[i][j][0],gridworld[i][j+1][0]))  \n",
    "                elif i == width-1:\n",
    "                    reward.append(reward_func(gridworld[i][j][0],gridworld[i-1][j][0]))\n",
    "                    reward.append(0)                        \n",
    "                    reward.append(0)\n",
    "                    reward.append(reward_func(gridworld[i][j][0],gridworld[i][j+1][0]))  \n",
    "                else:\n",
    "                    reward.append(reward_func(gridworld[i][j][0],gridworld[i-1][j][0]))\n",
    "                    reward.append(reward_func(gridworld[i][j][0],gridworld[i+1][j][0]))                        \n",
    "                    reward.append(0)\n",
    "                    reward.append(reward_func(gridworld[i][j][0],gridworld[i][j+1][0]))    \n",
    "            else: \n",
    "                if i == 0:\n",
    "                    reward.append(0)\n",
    "                    reward.append(reward_func(gridworld[i][j][0],gridworld[i+1][j][0]))                       \n",
    "                    reward.append(reward_func(gridworld[i][j][0],gridworld[i][j-1][0]))\n",
    "                    reward.append(reward_func(gridworld[i][j][0],gridworld[i][j+1][0]))\n",
    "                elif i == width-1:\n",
    "                    reward.append(reward_func(gridworld[i][j][0],gridworld[i-1][j][0]))\n",
    "                    reward.append(0)                        \n",
    "                    reward.append(reward_func(gridworld[i][j][0],gridworld[i][j-1][0]))\n",
    "                    reward.append(reward_func(gridworld[i][j][0],gridworld[i][j+1][0]))\n",
    "                else:\n",
    "                    reward.append(reward_func(gridworld[i][j][0],gridworld[i-1][j][0]))\n",
    "                    reward.append(reward_func(gridworld[i][j][0],gridworld[i+1][j][0]))                       \n",
    "                    reward.append(reward_func(gridworld[i][j][0],gridworld[i][j-1][0]))\n",
    "                    reward.append(reward_func(gridworld[i][j][0],gridworld[i][j+1][0]))   \n",
    "            grid_reward[i][j] = reward\n",
    "    return grid_reward"
   ]
  },
  {
   "cell_type": "code",
   "execution_count": 10,
   "metadata": {},
   "outputs": [],
   "source": [
    "def total_reward(grid_reward):\n",
    "    return np.sum(grid_reward)"
   ]
  },
  {
   "cell_type": "code",
   "execution_count": 11,
   "metadata": {},
   "outputs": [],
   "source": [
    "def hilclimb(tot_reward,reward_grid,data_grid,width,alpha, beta,iteration):\n",
    "    i = random.randrange(width)\n",
    "    j = random.randrange(width)\n",
    "    i2 = random.randrange(width)\n",
    "    j2 = random.randrange(width)\n",
    "    data_grid[i][j], data_grid[i2][j2] =  data_grid[i2][j2], data_grid[i][j]\n",
    "    reward_update(reward_grid,data_grid,i,j, width)\n",
    "    reward_update(reward_grid,data_grid,i2,j2, width)\n",
    "    new_tot_reward = total_reward(reward_grid)\n",
    "    P_k = 1.0-beta*alpha**iteration\n",
    "    #print(\"P_k:\",P_k)\n",
    "    backfire = random.random()\n",
    "   # print(\"backfire:\",backfire)\n",
    "    T = 10000000\n",
    "    flag = (iteration % T == 0)\n",
    "    if P_k < backfire:\n",
    "        if flag:\n",
    "            print(\"backfire,old:\",tot_reward,\" new:\",new_tot_reward)\n",
    "        return new_tot_reward, 1\n",
    "    else: \n",
    "        if new_tot_reward > tot_reward:\n",
    "            if flag:\n",
    "                print(\"update:\",new_tot_reward)\n",
    "            return new_tot_reward, 1\n",
    "        else:\n",
    "            if flag:\n",
    "                print(\"non_update:\",tot_reward,\" new:F\",new_tot_reward)\n",
    "            data_grid[i][j],  data_grid[i2][j2] =   data_grid[i2][j2],  data_grid[i][j]\n",
    "            reward_update(reward_grid,data_grid,i,j, width)\n",
    "            reward_update(reward_grid,data_grid,i2,j2, width)\n",
    "            return tot_reward, 0"
   ]
  },
  {
   "cell_type": "code",
   "execution_count": 12,
   "metadata": {},
   "outputs": [],
   "source": [
    "def reward_update(grid_reward,gridworld,x,y, width):\n",
    "    x_update = [x-1,x,x+1,x,x]\n",
    "    y_update = [y,y,y,y-1,y+1]\n",
    "    for i, j in zip(x_update, y_update):\n",
    "        reward=[]\n",
    "        #print(\"i=\",i,\"j=\",j)\n",
    "        if i < 0 or i > width-1 or j < 0 or j> width-1:\n",
    "           # print(\"i=\",i,\"j=\",j)\n",
    "            continue\n",
    "        if j%width == width-1:\n",
    "            if i == 0:\n",
    "                reward.append(0)\n",
    "                reward.append(reward_func(gridworld[i][j][0],gridworld[i+1][j][0]))                       \n",
    "                reward.append(reward_func(gridworld[i][j][0],gridworld[i][j-1][0]))\n",
    "                reward.append(0)\n",
    "            elif i == width-1:\n",
    "                reward.append(reward_func(gridworld[i][j][0],gridworld[i-1][j][0]))\n",
    "                reward.append(0)                        \n",
    "                reward.append(reward_func(gridworld[i][j][0],gridworld[i][j-1][0]))\n",
    "                reward.append(0)  \n",
    "            else:\n",
    "                reward.append(reward_func(gridworld[i][j][0],gridworld[i-1][j][0]))\n",
    "                reward.append(reward_func(gridworld[i][j][0],gridworld[i+1][j][0]))                       \n",
    "                reward.append(reward_func(gridworld[i][j][0],gridworld[i][j-1][0]))\n",
    "                reward.append(0)       \n",
    "        elif j%width == 0:\n",
    "            if i == 0:\n",
    "                reward.append(0)\n",
    "                reward.append(reward_func(gridworld[i][j][0],gridworld[i+1][j][0]))                        \n",
    "                reward.append(0)\n",
    "                reward.append(reward_func(gridworld[i][j][0],gridworld[i][j+1][0]))  \n",
    "            elif i == width-1:\n",
    "                reward.append(reward_func(gridworld[i][j][0],gridworld[i-1][j][0]))\n",
    "                reward.append(0)                        \n",
    "                reward.append(0)\n",
    "                reward.append(reward_func(gridworld[i][j][0],gridworld[i][j+1][0]))  \n",
    "            else:\n",
    "                reward.append(reward_func(gridworld[i][j][0],gridworld[i-1][j][0]))\n",
    "                reward.append(reward_func(gridworld[i][j][0],gridworld[i+1][j][0]))                        \n",
    "                reward.append(0)\n",
    "                reward.append(reward_func(gridworld[i][j][0],gridworld[i][j+1][0]))    \n",
    "        else: \n",
    "            if i == 0:\n",
    "                reward.append(0)\n",
    "                reward.append(reward_func(gridworld[i][j][0],gridworld[i+1][j][0]))                       \n",
    "                reward.append(reward_func(gridworld[i][j][0],gridworld[i][j-1][0]))\n",
    "                reward.append(reward_func(gridworld[i][j][0],gridworld[i][j+1][0]))\n",
    "            elif i == width-1:\n",
    "                reward.append(reward_func(gridworld[i][j][0],gridworld[i-1][j][0]))\n",
    "                reward.append(0)                        \n",
    "                reward.append(reward_func(gridworld[i][j][0],gridworld[i][j-1][0]))\n",
    "                reward.append(reward_func(gridworld[i][j][0],gridworld[i][j+1][0]))\n",
    "            else:\n",
    "                reward.append(reward_func(gridworld[i][j][0],gridworld[i-1][j][0]))\n",
    "                reward.append(reward_func(gridworld[i][j][0],gridworld[i+1][j][0]))                       \n",
    "                reward.append(reward_func(gridworld[i][j][0],gridworld[i][j-1][0]))\n",
    "                reward.append(reward_func(gridworld[i][j][0],gridworld[i][j+1][0]))   \n",
    "        grid_reward[i][j] = reward"
   ]
  },
  {
   "cell_type": "code",
   "execution_count": 13,
   "metadata": {
    "scrolled": true
   },
   "outputs": [
    {
     "name": "stdout",
     "output_type": "stream",
     "text": [
      "774.358\n",
      "0.6380652137540963 812.266\n",
      "0.67250802626283 804.182\n",
      "0.7036731562204706 810.212\n",
      "0.7318725178443317 807.0519999999999\n",
      "0.7573883426483397 815.7739999999999\n",
      "0.780476004139156 838.012\n",
      "0.8013665737056469 837.674\n",
      "0.8202691332821546 845.72\n",
      "0.8373728679317141 844.97\n",
      "0.8528489592927013 838.262\n",
      "0.866852298839354 859.338\n",
      "0.8795230381032203 847.822\n",
      "0.8909879913708328 879.3739999999999\n",
      "0.9013619048964144 856.444\n",
      "0.9107486053324516 876.9559999999999\n",
      "0.9192420388721302 884.9879999999999\n",
      "0.9269272115038236 891.324\n",
      "0.9338810397881107 918.578\n",
      "0.9401731206722711 897.962\n",
      "0.9458664280468974 897.058\n",
      "0.9510179430160663 908.568\n",
      "0.9556792241890882 912.4179999999999\n",
      "0.9598969237015627 914.9159999999999\n",
      "0.9637132541303047 923.656\n",
      "0.967166410975231 957.156\n",
      "0.970290954936586 947.4159999999999\n",
      "0.9731181578135083 948.2379999999998\n",
      "0.97567631548584 944.8039999999999\n",
      "0.9779910311116368 955.538\n",
      "0.9800854713747438 970.7359999999999\n",
      "0.981980598347075 973.4359999999999\n",
      "0.9836953792861737 977.318\n",
      "0.9852469764678018 991.51\n",
      "0.9866509189534827 986.002\n",
      "0.9879212580121238 1005.5739999999998\n",
      "0.9890707077512465 1007.9379999999999\n",
      "0.990110772365321 1020.808\n",
      "0.9910518612747634 1018.3059999999998\n",
      "0.991903393307957 1030.634\n",
      "0.9926738909689956 1027.6619999999998\n",
      "0.9933710657346232 1044.94\n",
      "0.9940018952340567 1044.722\n",
      "0.9945726930841444 1032.644\n",
      "0.9950891720787972 1069.462\n",
      "0.9955565013651226 1065.098\n",
      "0.9959793581785042 1055.976\n",
      "0.996361974654414 1067.208\n",
      "0.9967081801854704 1090.782\n",
      "0.9970214397476704 1084.13\n",
      "0.9973048885793814 1084.4859999999999\n",
      "0.9975613635601738 1098.416\n",
      "0.99779343160355 1109.1699999999998\n",
      "0.9980034153477348 1094.04\n",
      "0.9981934164016514 1111.4859999999999\n",
      "0.9983653363787408 1117.932\n",
      "0.9985208959291391 1134.158\n",
      "0.9986616519606937 1136.2820000000002\n",
      "0.9987890132211776 1139.376\n",
      "0.9989042543976508 1127.9080000000001\n",
      "0.9990085288740846 1145.1979999999999\n",
      "0.9991028802749321 1148.75\n",
      "0.9991882529101764 1147.018\n",
      "0.9992655012263975 1147.77\n",
      "0.9993353983584456 1146.5100000000002\n",
      "0.9993986438673134 1147.4579999999999\n",
      "0.999455870741646 1161.9540000000002\n",
      "0.9995076517329687 1158.74\n",
      "0.9995545050880338 1172.604\n",
      "0.9995968997356597 1179.0300000000002\n",
      "0.9996352599799758 1176.278\n",
      "0.999669969747043 1179.4\n",
      "0.9997013764273533 1190.4319999999998\n",
      "0.9997297943526654 1178.096\n",
      "0.9997555079419738 1180.072\n",
      "0.9997787745480986 1188.656\n",
      "0.9997998270333848 1196.876\n",
      "0.9998188761002899 1200.234\n",
      "0.9998361124001859 1204.8899999999999\n",
      "0.9998517084414823 1208.99\n",
      "0.9998658203161646 1213.002\n",
      "0.9998785892620312 1212.444\n",
      "0.9998901430762632 1201.47\n",
      "0.9999005973944743 1208.116\n",
      "0.9999100568480419 1207.2179999999998\n",
      "0.9999186161113044 1206.5900000000001\n",
      "0.9999263608491028 1208.174\n",
      "0.9999333685741517 1209.3899999999999\n",
      "0.9999397094228208 1212.912\n",
      "0.9999454468570901 1217.124\n",
      "0.9999506382997047 1220.4360000000001\n",
      "0.9999553357088872 1221.684\n",
      "0.9999595860983581 1222.122\n",
      "0.9999634320078696 1223.152\n",
      "0.9999669119289621 1223.9740000000002\n",
      "0.9999700606902041 1225.13\n",
      "0.9999729098057717 1220.804\n",
      "0.9999754877908565 1222.262\n",
      "0.9999778204470581 1223.826\n",
      "0.9999799311206173 1216.402\n",
      "0.9999818409360761 1221.482\n",
      "0.9999835690077007 1223.5459999999998\n",
      "0.9999851326307859 1225.7220000000002\n",
      "0.9999865474547536 1227.9140000000002\n",
      "0.9999878276397794 1224.518\n",
      "0.9999889859985137 1225.144\n",
      "1227.772\n"
     ]
    }
   ],
   "source": [
    "width = 20\n",
    "id_length = 2\n",
    "max_bicluster_width = 20\n",
    "beta = 0.4\n",
    "stop_value = 10000\n",
    "\n",
    "data = initial_dataset(width,id_length,max_bicluster_width)\n",
    "data_grid = gen_gridworld(width, data)\n",
    "reward_grid = gen_reward_grid(data_grid,width)\n",
    "tot_reward = total_reward(reward_grid)\n",
    "print(tot_reward)\n",
    "stop = 0\n",
    "iteration = 0\n",
    "alpha = 0.99999\n",
    "while stop < stop_value:\n",
    "    iteration = iteration + 1\n",
    "    tot_reward, update_bool = hilclimb(tot_reward,reward_grid,data_grid,width,alpha, beta, iteration)\n",
    "    P_k = 1.0-beta*alpha**iteration\n",
    "    if update_bool == 1:\n",
    "        stop = 0\n",
    "    else:\n",
    "        stop = stop+1\n",
    "    if iteration % 10000 == 0:\n",
    "        print(P_k, tot_reward)\n",
    "    if 1 - P_k < 1e-5:\n",
    "        break\n",
    "    #print(\"real: \", total_reward(gen_reward_grid(data_grid,width)))\n",
    "print(tot_reward)"
   ]
  },
  {
   "cell_type": "code",
   "execution_count": 14,
   "metadata": {},
   "outputs": [
    {
     "data": {
      "text/plain": [
       "1227.772"
      ]
     },
     "execution_count": 14,
     "metadata": {},
     "output_type": "execute_result"
    }
   ],
   "source": [
    "total_reward(gen_reward_grid(data_grid,width))"
   ]
  },
  {
   "cell_type": "code",
   "execution_count": 15,
   "metadata": {},
   "outputs": [
    {
     "data": {
      "text/plain": [
       "[[42, 69, 71, 79, 119, 170, 174, 186, 216, 320, 461, 493, 518, 547, 571],\n",
       " [0, 1, 2, 3, 4, 5, 6, 8, 11, 14, 15, 26, 37, 39, 47, 49, 51, 78, 136, 147]]"
      ]
     },
     "execution_count": 15,
     "metadata": {},
     "output_type": "execute_result"
    }
   ],
   "source": [
    "data_grid[0][1]"
   ]
  },
  {
   "cell_type": "code",
   "execution_count": 16,
   "metadata": {},
   "outputs": [],
   "source": [
    "import pickle\n",
    "\n",
    "f1 = open(\"dic\", \"rb\")\n",
    "f2 = open(\"dic_inv\", \"rb\")\n",
    "dic = pickle.load(f1)\n",
    "dic_inv = pickle.load(f2)\n",
    "f1.close()\n",
    "f2.close()"
   ]
  },
  {
   "cell_type": "code",
   "execution_count": 17,
   "metadata": {},
   "outputs": [],
   "source": [
    "real_grid = [[[data_grid[k][j][0], [dic_inv[i] for i in data_grid[j][k][1]]] for j in range(width)] for k in range(width)]"
   ]
  },
  {
   "cell_type": "code",
   "execution_count": 18,
   "metadata": {},
   "outputs": [],
   "source": [
    "f = open(\"grid\", \"wb\")\n",
    "pickle.dump(real_grid, f)\n",
    "f.close()"
   ]
  },
  {
   "cell_type": "code",
   "execution_count": 19,
   "metadata": {},
   "outputs": [
    {
     "data": {
      "text/plain": [
       "True"
      ]
     },
     "execution_count": 19,
     "metadata": {},
     "output_type": "execute_result"
    }
   ],
   "source": [
    "f = open(\"grid\", \"rb\")\n",
    "pickle.load(f) == real_grid"
   ]
  },
  {
   "cell_type": "code",
   "execution_count": null,
   "metadata": {},
   "outputs": [],
   "source": []
  },
  {
   "cell_type": "code",
   "execution_count": null,
   "metadata": {},
   "outputs": [],
   "source": []
  }
 ],
 "metadata": {
  "kernelspec": {
   "display_name": "Python 3",
   "language": "python",
   "name": "python3"
  },
  "language_info": {
   "codemirror_mode": {
    "name": "ipython",
    "version": 3
   },
   "file_extension": ".py",
   "mimetype": "text/x-python",
   "name": "python",
   "nbconvert_exporter": "python",
   "pygments_lexer": "ipython3",
   "version": "3.7.6"
  }
 },
 "nbformat": 4,
 "nbformat_minor": 2
}
