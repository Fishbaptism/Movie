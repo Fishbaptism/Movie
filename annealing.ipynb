{
 "cells": [
  {
   "cell_type": "code",
   "execution_count": 2,
   "metadata": {},
   "outputs": [],
   "source": [
    "import random\n",
    "import numpy as np\n",
    "import math\n",
    "import pandas as pd\n",
    "width = 20"
   ]
  },
  {
   "cell_type": "code",
   "execution_count": 3,
   "metadata": {},
   "outputs": [],
   "source": [
    "with open('rowZip.csv', 'r') as file:\n",
    "    rows = file.readlines()\n",
    "    file.close()\n",
    "rows = [[int(st) for st in row.split(',')] for row in rows]\n",
    "num = len(rows)"
   ]
  },
  {
   "cell_type": "code",
   "execution_count": 4,
   "metadata": {},
   "outputs": [
    {
     "data": {
      "text/plain": [
       "47366"
      ]
     },
     "execution_count": 4,
     "metadata": {},
     "output_type": "execute_result"
    }
   ],
   "source": [
    "with open('colZip.csv', 'r') as file:\n",
    "    cols = file.readlines()\n",
    "    file.close()\n",
    "cols = [[int(st) for st in col.split(',')] for col in cols]\n",
    "len(cols)"
   ]
  },
  {
   "cell_type": "markdown",
   "metadata": {},
   "source": [
    "pick = random.sample(range(num), width**2)\n",
    "random.shuffle(pick)\n",
    "np.sort(pick)"
   ]
  },
  {
   "cell_type": "code",
   "execution_count": 5,
   "metadata": {},
   "outputs": [
    {
     "data": {
      "text/plain": [
       "107"
      ]
     },
     "execution_count": 5,
     "metadata": {},
     "output_type": "execute_result"
    }
   ],
   "source": [
    "O = set([])\n",
    "for i in cols:\n",
    "    if i not in pick:\n",
    "        O |= set(i)\n",
    "len(O)"
   ]
  },
  {
   "cell_type": "code",
   "execution_count": 11,
   "metadata": {},
   "outputs": [
    {
     "name": "stdout",
     "output_type": "stream",
     "text": [
      "107 0\n",
      "99 50\n",
      "98 95\n",
      "95 140\n",
      "95 182\n",
      "92 223\n",
      "89 260\n",
      "88 296\n",
      "88 333\n",
      "87 368\n"
     ]
    },
    {
     "data": {
      "text/plain": [
       "400"
      ]
     },
     "execution_count": 11,
     "metadata": {},
     "output_type": "execute_result"
    }
   ],
   "source": [
    "pick = []\n",
    "m = width*width\n",
    "while len(pick) < m:\n",
    "    tp = set([])\n",
    "    O = set([])\n",
    "    for i in range(len(cols)):\n",
    "        if i not in pick:\n",
    "            O |= set(cols[i])\n",
    "    print(len(O), len(pick))\n",
    "    while len(tp) < len(O) and len(pick) < m:\n",
    "        tmp = -1\n",
    "        x = None\n",
    "        for i in range(len(cols)):\n",
    "            if i not in pick:\n",
    "                addi = len(set(cols[i]) - tp)\n",
    "                if addi > tmp:\n",
    "                    tmp = addi\n",
    "                    x = i\n",
    "        tp |= set(cols[x])\n",
    "        pick.append(x)\n",
    "\n",
    "while len(pick) < m:\n",
    "    print(\"bug\")\n",
    "    tmp = random.randint(0, m-1)\n",
    "    if tmp not in pick:\n",
    "        pick.append(tmp)\n",
    "len(pick)"
   ]
  },
  {
   "cell_type": "markdown",
   "metadata": {},
   "source": [
    "def user_ranstr(num):\n",
    "    userID = ''\n",
    "    H = 'AB'\n",
    "    userID += random.choice(H)\n",
    "    H = '0123456789'\n",
    "    for i in range(num-1):\n",
    "        userID += random.choice(H)\n",
    "    return userID\n"
   ]
  },
  {
   "cell_type": "markdown",
   "metadata": {},
   "source": [
    "def item_ranstr(num):\n",
    "    itemID = ''\n",
    "    H = 'def'\n",
    "    itemID += random.choice(H)\n",
    "    H = '0123456789'\n",
    "    for i in range(num-1):\n",
    "        itemID += random.choice(H)\n",
    "    return itemID"
   ]
  },
  {
   "cell_type": "code",
   "execution_count": 12,
   "metadata": {},
   "outputs": [],
   "source": [
    "def initial_dataset(n,num,num2):\n",
    "    #n: grid width, num: length of user/item ID , num2: max_bicluster_width\n",
    "    bicluster = []\n",
    "    for i in range(n):\n",
    "        '''num_user = random.randrange(num2)\n",
    "        num_item = random.randrange(num2)\n",
    "        userID = []\n",
    "        itemID = []\n",
    "        j = 0\n",
    "        k = 0\n",
    "        while j < num_user:\n",
    "            try:\n",
    "                user = user_ranstr(num)\n",
    "                userID.index(user)\n",
    "            except:\n",
    "                userID.append(user)\n",
    "                j= j + 1 \n",
    "        while k < num_item:\n",
    "            try:\n",
    "                item = item_ranstr(num)\n",
    "                itemID.index(item)\n",
    "            except:\n",
    "                itemID.append(item)\n",
    "                k = k + 1'''\n",
    "        userID = rows[i]\n",
    "        itemID = cols[i]\n",
    "        single_set = [userID,itemID]\n",
    "        bicluster.append(single_set)\n",
    "    return bicluster"
   ]
  },
  {
   "cell_type": "code",
   "execution_count": 13,
   "metadata": {},
   "outputs": [],
   "source": [
    "def reward_func(set1,set2):   \n",
    "    intersection = 0\n",
    "    for i in range(len(set2)):\n",
    "        try:\n",
    "            set1.index(set2[i])\n",
    "            intersection = intersection + 1\n",
    "     #       print(set2[i])\n",
    "        except:\n",
    "            pass \n",
    "   ## print(\"交:\",intersection)\n",
    "   # print(\"並:\",(len(set1)+len(set2)-intersection))\n",
    "    try:\n",
    "        reward = intersection/(len(set1)+len(set2)-intersection)\n",
    "    except:\n",
    "        reward = 1\n",
    "    return round(reward,3)"
   ]
  },
  {
   "cell_type": "code",
   "execution_count": 14,
   "metadata": {},
   "outputs": [],
   "source": [
    "def gen_gridworld(width, data):\n",
    "    left_num = width*width\n",
    "    tp = 0\n",
    "    gridworld = [[0 for col in range(width)] for row in range(width)]\n",
    "    random.shuffle(pick)\n",
    "    for i in range(width):\n",
    "        for j in range(width):\n",
    "            '''num = random.randrange(left_num)\n",
    "            gridworld[i][j] = data[num]\n",
    "            data.remove( data[num])\n",
    "            left_num = left_num - 1'''\n",
    "            gridworld[i][j] = data[pick[tp]]\n",
    "            tp += 1\n",
    "    return gridworld"
   ]
  },
  {
   "cell_type": "code",
   "execution_count": 15,
   "metadata": {},
   "outputs": [],
   "source": [
    "def gen_reward_grid(gridworld,width):\n",
    "    grid_reward = [[0 for col in range(width)] for row in range(width)]\n",
    "    for i in range(width):\n",
    "        for j in range(width):\n",
    "            reward=[]\n",
    "            #print(\"i=\",i,\"j=\",j)\n",
    "            if j%width == width-1:\n",
    "                if i == 0:\n",
    "                    reward.append(0)\n",
    "                    reward.append(reward_func(gridworld[i][j][0],gridworld[i+1][j][0]))                       \n",
    "                    reward.append(reward_func(gridworld[i][j][0],gridworld[i][j-1][0]))\n",
    "                    reward.append(0)\n",
    "                elif i == width-1:\n",
    "                    reward.append(reward_func(gridworld[i][j][0],gridworld[i-1][j][0]))\n",
    "                    reward.append(0)                        \n",
    "                    reward.append(reward_func(gridworld[i][j][0],gridworld[i][j-1][0]))\n",
    "                    reward.append(0)  \n",
    "                else:\n",
    "                    reward.append(reward_func(gridworld[i][j][0],gridworld[i-1][j][0]))\n",
    "                    reward.append(reward_func(gridworld[i][j][0],gridworld[i+1][j][0]))                       \n",
    "                    reward.append(reward_func(gridworld[i][j][0],gridworld[i][j-1][0]))\n",
    "                    reward.append(0)       \n",
    "            elif j%width == 0:\n",
    "                if i == 0:\n",
    "                    reward.append(0)\n",
    "                    reward.append(reward_func(gridworld[i][j][0],gridworld[i+1][j][0]))                        \n",
    "                    reward.append(0)\n",
    "                    reward.append(reward_func(gridworld[i][j][0],gridworld[i][j+1][0]))  \n",
    "                elif i == width-1:\n",
    "                    reward.append(reward_func(gridworld[i][j][0],gridworld[i-1][j][0]))\n",
    "                    reward.append(0)                        \n",
    "                    reward.append(0)\n",
    "                    reward.append(reward_func(gridworld[i][j][0],gridworld[i][j+1][0]))  \n",
    "                else:\n",
    "                    reward.append(reward_func(gridworld[i][j][0],gridworld[i-1][j][0]))\n",
    "                    reward.append(reward_func(gridworld[i][j][0],gridworld[i+1][j][0]))                        \n",
    "                    reward.append(0)\n",
    "                    reward.append(reward_func(gridworld[i][j][0],gridworld[i][j+1][0]))    \n",
    "            else: \n",
    "                if i == 0:\n",
    "                    reward.append(0)\n",
    "                    reward.append(reward_func(gridworld[i][j][0],gridworld[i+1][j][0]))                       \n",
    "                    reward.append(reward_func(gridworld[i][j][0],gridworld[i][j-1][0]))\n",
    "                    reward.append(reward_func(gridworld[i][j][0],gridworld[i][j+1][0]))\n",
    "                elif i == width-1:\n",
    "                    reward.append(reward_func(gridworld[i][j][0],gridworld[i-1][j][0]))\n",
    "                    reward.append(0)                        \n",
    "                    reward.append(reward_func(gridworld[i][j][0],gridworld[i][j-1][0]))\n",
    "                    reward.append(reward_func(gridworld[i][j][0],gridworld[i][j+1][0]))\n",
    "                else:\n",
    "                    reward.append(reward_func(gridworld[i][j][0],gridworld[i-1][j][0]))\n",
    "                    reward.append(reward_func(gridworld[i][j][0],gridworld[i+1][j][0]))                       \n",
    "                    reward.append(reward_func(gridworld[i][j][0],gridworld[i][j-1][0]))\n",
    "                    reward.append(reward_func(gridworld[i][j][0],gridworld[i][j+1][0]))   \n",
    "            grid_reward[i][j] = reward\n",
    "    return grid_reward"
   ]
  },
  {
   "cell_type": "code",
   "execution_count": 16,
   "metadata": {},
   "outputs": [],
   "source": [
    "def total_reward(grid_reward):\n",
    "    return np.sum(grid_reward)"
   ]
  },
  {
   "cell_type": "code",
   "execution_count": 17,
   "metadata": {},
   "outputs": [],
   "source": [
    "def hilclimb(tot_reward,reward_grid,data_grid,width,alpha, beta,iteration):\n",
    "    i = random.randrange(width)\n",
    "    j = random.randrange(width)\n",
    "    i2 = random.randrange(width)\n",
    "    j2 = random.randrange(width)\n",
    "    data_grid[i][j], data_grid[i2][j2] =  data_grid[i2][j2], data_grid[i][j]\n",
    "    reward_update(reward_grid,data_grid,i,j, width)\n",
    "    reward_update(reward_grid,data_grid,i2,j2, width)\n",
    "    new_tot_reward = total_reward(reward_grid)\n",
    "    P_k = 1.0-beta*alpha**iteration\n",
    "    #print(\"P_k:\",P_k)\n",
    "    backfire = random.random()\n",
    "   # print(\"backfire:\",backfire)\n",
    "    T = 10000000\n",
    "    flag = (iteration % T == 0)\n",
    "    if P_k < backfire:\n",
    "        if flag:\n",
    "            print(\"backfire,old:\",tot_reward,\" new:\",new_tot_reward)\n",
    "        return new_tot_reward, 1\n",
    "    else: \n",
    "        if new_tot_reward > tot_reward:\n",
    "            if flag:\n",
    "                print(\"update:\",new_tot_reward)\n",
    "            return new_tot_reward, 1\n",
    "        else:\n",
    "            if flag:\n",
    "                print(\"non_update:\",tot_reward,\" new:F\",new_tot_reward)\n",
    "            data_grid[i][j],  data_grid[i2][j2] =   data_grid[i2][j2],  data_grid[i][j]\n",
    "            reward_update(reward_grid,data_grid,i,j, width)\n",
    "            reward_update(reward_grid,data_grid,i2,j2, width)\n",
    "            return tot_reward, 0"
   ]
  },
  {
   "cell_type": "code",
   "execution_count": 18,
   "metadata": {},
   "outputs": [],
   "source": [
    "def reward_update(grid_reward,gridworld,x,y, width):\n",
    "    x_update = [x-1,x,x+1,x,x]\n",
    "    y_update = [y,y,y,y-1,y+1]\n",
    "    for i, j in zip(x_update, y_update):\n",
    "        reward=[]\n",
    "        #print(\"i=\",i,\"j=\",j)\n",
    "        if i < 0 or i > width-1 or j < 0 or j> width-1:\n",
    "           # print(\"i=\",i,\"j=\",j)\n",
    "            continue\n",
    "        if j%width == width-1:\n",
    "            if i == 0:\n",
    "                reward.append(0)\n",
    "                reward.append(reward_func(gridworld[i][j][0],gridworld[i+1][j][0]))                       \n",
    "                reward.append(reward_func(gridworld[i][j][0],gridworld[i][j-1][0]))\n",
    "                reward.append(0)\n",
    "            elif i == width-1:\n",
    "                reward.append(reward_func(gridworld[i][j][0],gridworld[i-1][j][0]))\n",
    "                reward.append(0)                        \n",
    "                reward.append(reward_func(gridworld[i][j][0],gridworld[i][j-1][0]))\n",
    "                reward.append(0)  \n",
    "            else:\n",
    "                reward.append(reward_func(gridworld[i][j][0],gridworld[i-1][j][0]))\n",
    "                reward.append(reward_func(gridworld[i][j][0],gridworld[i+1][j][0]))                       \n",
    "                reward.append(reward_func(gridworld[i][j][0],gridworld[i][j-1][0]))\n",
    "                reward.append(0)       \n",
    "        elif j%width == 0:\n",
    "            if i == 0:\n",
    "                reward.append(0)\n",
    "                reward.append(reward_func(gridworld[i][j][0],gridworld[i+1][j][0]))                        \n",
    "                reward.append(0)\n",
    "                reward.append(reward_func(gridworld[i][j][0],gridworld[i][j+1][0]))  \n",
    "            elif i == width-1:\n",
    "                reward.append(reward_func(gridworld[i][j][0],gridworld[i-1][j][0]))\n",
    "                reward.append(0)                        \n",
    "                reward.append(0)\n",
    "                reward.append(reward_func(gridworld[i][j][0],gridworld[i][j+1][0]))  \n",
    "            else:\n",
    "                reward.append(reward_func(gridworld[i][j][0],gridworld[i-1][j][0]))\n",
    "                reward.append(reward_func(gridworld[i][j][0],gridworld[i+1][j][0]))                        \n",
    "                reward.append(0)\n",
    "                reward.append(reward_func(gridworld[i][j][0],gridworld[i][j+1][0]))    \n",
    "        else: \n",
    "            if i == 0:\n",
    "                reward.append(0)\n",
    "                reward.append(reward_func(gridworld[i][j][0],gridworld[i+1][j][0]))                       \n",
    "                reward.append(reward_func(gridworld[i][j][0],gridworld[i][j-1][0]))\n",
    "                reward.append(reward_func(gridworld[i][j][0],gridworld[i][j+1][0]))\n",
    "            elif i == width-1:\n",
    "                reward.append(reward_func(gridworld[i][j][0],gridworld[i-1][j][0]))\n",
    "                reward.append(0)                        \n",
    "                reward.append(reward_func(gridworld[i][j][0],gridworld[i][j-1][0]))\n",
    "                reward.append(reward_func(gridworld[i][j][0],gridworld[i][j+1][0]))\n",
    "            else:\n",
    "                reward.append(reward_func(gridworld[i][j][0],gridworld[i-1][j][0]))\n",
    "                reward.append(reward_func(gridworld[i][j][0],gridworld[i+1][j][0]))                       \n",
    "                reward.append(reward_func(gridworld[i][j][0],gridworld[i][j-1][0]))\n",
    "                reward.append(reward_func(gridworld[i][j][0],gridworld[i][j+1][0]))   \n",
    "        grid_reward[i][j] = reward"
   ]
  },
  {
   "cell_type": "code",
   "execution_count": 19,
   "metadata": {
    "scrolled": true
   },
   "outputs": [
    {
     "name": "stdout",
     "output_type": "stream",
     "text": [
      "371.66400000000004\n"
     ]
    }
   ],
   "source": [
    "width = 20\n",
    "id_length = 2\n",
    "max_bicluster_width = 20\n",
    "beta = 0.4\n",
    "stop_value = 10000\n",
    "\n",
    "data = initial_dataset(num,id_length,max_bicluster_width)\n",
    "data_grid = gen_gridworld(width, data)\n",
    "reward_grid = gen_reward_grid(data_grid,width)\n",
    "tot_reward = total_reward(reward_grid)\n",
    "print(tot_reward)\n",
    "stop = 0\n",
    "alpha = 0.99999\n",
    "iteration = 0"
   ]
  },
  {
   "cell_type": "code",
   "execution_count": 20,
   "metadata": {},
   "outputs": [
    {
     "data": {
      "text/plain": [
       "10000"
      ]
     },
     "execution_count": 20,
     "metadata": {},
     "output_type": "execute_result"
    }
   ],
   "source": [
    "stop_value"
   ]
  },
  {
   "cell_type": "code",
   "execution_count": null,
   "metadata": {},
   "outputs": [
    {
     "name": "stdout",
     "output_type": "stream",
     "text": [
      "0.6380652137540963 413.15200000000004\n",
      "0.67250802626283 413.428\n"
     ]
    }
   ],
   "source": [
    "while True:\n",
    "    iteration = iteration + 1\n",
    "    tot_reward, update_bool = hilclimb(tot_reward,reward_grid,data_grid,width,alpha, beta, iteration)\n",
    "    P_k = 1.0-beta*alpha**iteration\n",
    "    if update_bool == 1:\n",
    "        stop = 0\n",
    "    else:\n",
    "        stop = stop+1\n",
    "    if iteration % 10000 == 0:\n",
    "        print(P_k, tot_reward)\n",
    "    if 1 - P_k < 1e-7:\n",
    "        break\n",
    "    #print(\"real: \", total_reward(gen_reward_grid(data_grid,width)))\n",
    "print(tot_reward)"
   ]
  },
  {
   "cell_type": "code",
   "execution_count": null,
   "metadata": {},
   "outputs": [],
   "source": [
    "total_reward(gen_reward_grid(data_grid,width))"
   ]
  },
  {
   "cell_type": "code",
   "execution_count": null,
   "metadata": {},
   "outputs": [],
   "source": [
    "data_grid[0][1]"
   ]
  },
  {
   "cell_type": "code",
   "execution_count": null,
   "metadata": {},
   "outputs": [],
   "source": [
    "import pickle\n",
    "\n",
    "f1 = open(\"dic\", \"rb\")\n",
    "f2 = open(\"dic_inv\", \"rb\")\n",
    "dic = pickle.load(f1)\n",
    "dic_inv = pickle.load(f2)\n",
    "f1.close()\n",
    "f2.close()"
   ]
  },
  {
   "cell_type": "code",
   "execution_count": null,
   "metadata": {},
   "outputs": [],
   "source": [
    "real_grid = [[[data_grid[k][j][0], [dic_inv[i] for i in data_grid[k][j][1]]] for j in range(width)] for k in range(width)]"
   ]
  },
  {
   "cell_type": "code",
   "execution_count": null,
   "metadata": {},
   "outputs": [],
   "source": [
    "f = open(\"grid1\", \"wb\")\n",
    "pickle.dump(real_grid, f)\n",
    "f.close()"
   ]
  },
  {
   "cell_type": "code",
   "execution_count": null,
   "metadata": {},
   "outputs": [],
   "source": [
    "f = open(\"grid1\", \"rb\")\n",
    "print(pickle.load(f) == real_grid)\n",
    "f.close()"
   ]
  },
  {
   "cell_type": "code",
   "execution_count": null,
   "metadata": {},
   "outputs": [],
   "source": [
    "real_grid"
   ]
  },
  {
   "cell_type": "code",
   "execution_count": null,
   "metadata": {},
   "outputs": [],
   "source": []
  },
  {
   "cell_type": "code",
   "execution_count": null,
   "metadata": {},
   "outputs": [],
   "source": []
  }
 ],
 "metadata": {
  "kernelspec": {
   "display_name": "Python 3",
   "language": "python",
   "name": "python3"
  },
  "language_info": {
   "codemirror_mode": {
    "name": "ipython",
    "version": 3
   },
   "file_extension": ".py",
   "mimetype": "text/x-python",
   "name": "python",
   "nbconvert_exporter": "python",
   "pygments_lexer": "ipython3",
   "version": "3.7.6"
  }
 },
 "nbformat": 4,
 "nbformat_minor": 2
}
