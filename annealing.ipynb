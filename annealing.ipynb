{
 "cells": [
  {
   "cell_type": "code",
   "execution_count": 1,
   "metadata": {},
   "outputs": [],
   "source": [
    "import random\n",
    "import numpy as np\n",
    "import math\n",
    "import pandas as pd"
   ]
  },
  {
   "cell_type": "code",
   "execution_count": 2,
   "metadata": {},
   "outputs": [
    {
     "data": {
      "text/plain": [
       "[108, 170, 216, 344, 439, 540, 547, 641, 755, 756]"
      ]
     },
     "execution_count": 2,
     "metadata": {},
     "output_type": "execute_result"
    }
   ],
   "source": [
    "with open('rowZip.csv', 'r') as file:\n",
    "    rows = file.readlines()\n",
    "rows = [[int(st) for st in row.split(',')] for row in rows]\n",
    "rows[0]"
   ]
  },
  {
   "cell_type": "code",
   "execution_count": 3,
   "metadata": {},
   "outputs": [
    {
     "data": {
      "text/plain": [
       "[46,\n",
       " 48,\n",
       " 99,\n",
       " 228,\n",
       " 259,\n",
       " 279,\n",
       " 459,\n",
       " 507,\n",
       " 510,\n",
       " 833,\n",
       " 898,\n",
       " 900,\n",
       " 914,\n",
       " 938,\n",
       " 968,\n",
       " 1215,\n",
       " 1257,\n",
       " 1283,\n",
       " 1483,\n",
       " 2119,\n",
       " 2633,\n",
       " 2886,\n",
       " 3066,\n",
       " 3087,\n",
       " 3434,\n",
       " 3489,\n",
       " 3506,\n",
       " 3972,\n",
       " 4383,\n",
       " 4535]"
      ]
     },
     "execution_count": 3,
     "metadata": {},
     "output_type": "execute_result"
    }
   ],
   "source": [
    "with open('colZip.csv', 'r') as file:\n",
    "    cols = file.readlines()\n",
    "cols = [[int(st) for st in col.split(',')] for col in cols]\n",
    "cols[0]"
   ]
  },
  {
   "cell_type": "markdown",
   "metadata": {},
   "source": [
    "def user_ranstr(num):\n",
    "    userID = ''\n",
    "    H = 'AB'\n",
    "    userID += random.choice(H)\n",
    "    H = '0123456789'\n",
    "    for i in range(num-1):\n",
    "        userID += random.choice(H)\n",
    "    return userID\n"
   ]
  },
  {
   "cell_type": "markdown",
   "metadata": {},
   "source": [
    "def item_ranstr(num):\n",
    "    itemID = ''\n",
    "    H = 'def'\n",
    "    itemID += random.choice(H)\n",
    "    H = '0123456789'\n",
    "    for i in range(num-1):\n",
    "        itemID += random.choice(H)\n",
    "    return itemID"
   ]
  },
  {
   "cell_type": "code",
   "execution_count": 4,
   "metadata": {},
   "outputs": [],
   "source": [
    "def initial_dataset(n,num,num2):\n",
    "    #n: grid width, num: length of user/item ID , num2: max_bicluster_width\n",
    "    bicluster = []\n",
    "    for i in range(n*n):\n",
    "        '''num_user = random.randrange(num2)\n",
    "        num_item = random.randrange(num2)\n",
    "        userID = []\n",
    "        itemID = []\n",
    "        j = 0\n",
    "        k = 0\n",
    "        while j < num_user:\n",
    "            try:\n",
    "                user = user_ranstr(num)\n",
    "                userID.index(user)\n",
    "            except:\n",
    "                userID.append(user)\n",
    "                j= j + 1 \n",
    "        while k < num_item:\n",
    "            try:\n",
    "                item = item_ranstr(num)\n",
    "                itemID.index(item)\n",
    "            except:\n",
    "                itemID.append(item)\n",
    "                k = k + 1'''\n",
    "        userID = rows[i]\n",
    "        itemID = cols[i]\n",
    "        single_set = [userID,itemID]\n",
    "        bicluster.append(single_set)\n",
    "    return bicluster"
   ]
  },
  {
   "cell_type": "code",
   "execution_count": 5,
   "metadata": {},
   "outputs": [],
   "source": [
    "def reward_func(set1,set2):   \n",
    "    intersection = 0\n",
    "    for i in range(len(set2)):\n",
    "        try:\n",
    "            set1.index(set2[i])\n",
    "            intersection = intersection + 1\n",
    "     #       print(set2[i])\n",
    "        except:\n",
    "            pass \n",
    "   ## print(\"交:\",intersection)\n",
    "   # print(\"並:\",(len(set1)+len(set2)-intersection))\n",
    "    try:\n",
    "        reward = intersection/(len(set1)+len(set2)-intersection)\n",
    "    except:\n",
    "        reward = 1\n",
    "    return round(reward,3)"
   ]
  },
  {
   "cell_type": "code",
   "execution_count": 6,
   "metadata": {},
   "outputs": [],
   "source": [
    "def gen_gridworld(width, data):\n",
    "    left_num = width*width\n",
    "    gridworld = [[0 for col in range(width)] for row in range(width)]\n",
    "    for i in range(width):\n",
    "        for j in range(width):\n",
    "            num = random.randrange(left_num)\n",
    "            gridworld[i][j] = data[num]\n",
    "            data.remove( data[num])\n",
    "            left_num = left_num - 1\n",
    "    return gridworld"
   ]
  },
  {
   "cell_type": "code",
   "execution_count": 7,
   "metadata": {},
   "outputs": [],
   "source": [
    "def gen_reward_grid(gridworld,width):\n",
    "    grid_reward = [[0 for col in range(width)] for row in range(width)]\n",
    "    for i in range(width):\n",
    "        for j in range(width):\n",
    "            reward=[]\n",
    "            #print(\"i=\",i,\"j=\",j)\n",
    "            if j%width == width-1:\n",
    "                if i == 0:\n",
    "                    reward.append(0)\n",
    "                    reward.append(reward_func(gridworld[i][j][0],gridworld[i+1][j][0]))                       \n",
    "                    reward.append(reward_func(gridworld[i][j][0],gridworld[i][j-1][0]))\n",
    "                    reward.append(0)\n",
    "                elif i == width-1:\n",
    "                    reward.append(reward_func(gridworld[i][j][0],gridworld[i-1][j][0]))\n",
    "                    reward.append(0)                        \n",
    "                    reward.append(reward_func(gridworld[i][j][0],gridworld[i][j-1][0]))\n",
    "                    reward.append(0)  \n",
    "                else:\n",
    "                    reward.append(reward_func(gridworld[i][j][0],gridworld[i-1][j][0]))\n",
    "                    reward.append(reward_func(gridworld[i][j][0],gridworld[i+1][j][0]))                       \n",
    "                    reward.append(reward_func(gridworld[i][j][0],gridworld[i][j-1][0]))\n",
    "                    reward.append(0)       \n",
    "            elif j%width == 0:\n",
    "                if i == 0:\n",
    "                    reward.append(0)\n",
    "                    reward.append(reward_func(gridworld[i][j][0],gridworld[i+1][j][0]))                        \n",
    "                    reward.append(0)\n",
    "                    reward.append(reward_func(gridworld[i][j][0],gridworld[i][j+1][0]))  \n",
    "                elif i == width-1:\n",
    "                    reward.append(reward_func(gridworld[i][j][0],gridworld[i-1][j][0]))\n",
    "                    reward.append(0)                        \n",
    "                    reward.append(0)\n",
    "                    reward.append(reward_func(gridworld[i][j][0],gridworld[i][j+1][0]))  \n",
    "                else:\n",
    "                    reward.append(reward_func(gridworld[i][j][0],gridworld[i-1][j][0]))\n",
    "                    reward.append(reward_func(gridworld[i][j][0],gridworld[i+1][j][0]))                        \n",
    "                    reward.append(0)\n",
    "                    reward.append(reward_func(gridworld[i][j][0],gridworld[i][j+1][0]))    \n",
    "            else: \n",
    "                if i == 0:\n",
    "                    reward.append(0)\n",
    "                    reward.append(reward_func(gridworld[i][j][0],gridworld[i+1][j][0]))                       \n",
    "                    reward.append(reward_func(gridworld[i][j][0],gridworld[i][j-1][0]))\n",
    "                    reward.append(reward_func(gridworld[i][j][0],gridworld[i][j+1][0]))\n",
    "                elif i == width-1:\n",
    "                    reward.append(reward_func(gridworld[i][j][0],gridworld[i-1][j][0]))\n",
    "                    reward.append(0)                        \n",
    "                    reward.append(reward_func(gridworld[i][j][0],gridworld[i][j-1][0]))\n",
    "                    reward.append(reward_func(gridworld[i][j][0],gridworld[i][j+1][0]))\n",
    "                else:\n",
    "                    reward.append(reward_func(gridworld[i][j][0],gridworld[i-1][j][0]))\n",
    "                    reward.append(reward_func(gridworld[i][j][0],gridworld[i+1][j][0]))                       \n",
    "                    reward.append(reward_func(gridworld[i][j][0],gridworld[i][j-1][0]))\n",
    "                    reward.append(reward_func(gridworld[i][j][0],gridworld[i][j+1][0]))   \n",
    "            grid_reward[i][j] = reward\n",
    "    return grid_reward"
   ]
  },
  {
   "cell_type": "code",
   "execution_count": 8,
   "metadata": {},
   "outputs": [],
   "source": [
    "def total_reward(grid_reward):\n",
    "    return np.sum(grid_reward)"
   ]
  },
  {
   "cell_type": "code",
   "execution_count": 9,
   "metadata": {},
   "outputs": [],
   "source": [
    "def hilclimb(tot_reward,reward_grid,data_grid,width,alpha, beta,iteration):\n",
    "    i = random.randrange(width)\n",
    "    j = random.randrange(width)\n",
    "    i2 = random.randrange(width)\n",
    "    j2 = random.randrange(width)\n",
    "    data_grid[i][j], data_grid[i2][j2] =  data_grid[i2][j2], data_grid[i][j]\n",
    "    reward_update(reward_grid,data_grid,i,j, width)\n",
    "    reward_update(reward_grid,data_grid,i2,j2, width)\n",
    "    new_tot_reward = total_reward(reward_grid)\n",
    "    P_k = 1.0-beta*alpha**iteration\n",
    "    #print(\"P_k:\",P_k)\n",
    "    backfire = random.random()\n",
    "   # print(\"backfire:\",backfire)\n",
    "    T = 10000000\n",
    "    flag = (iteration % T == 0)\n",
    "    if P_k < backfire:\n",
    "        if flag:\n",
    "            print(\"backfire,old:\",tot_reward,\" new:\",new_tot_reward)\n",
    "        return new_tot_reward, 1\n",
    "    else: \n",
    "        if new_tot_reward > tot_reward:\n",
    "            if flag:\n",
    "                print(\"update:\",new_tot_reward)\n",
    "            return new_tot_reward, 1\n",
    "        else:\n",
    "            if flag:\n",
    "                print(\"non_update:\",tot_reward,\" new:\",new_tot_reward)\n",
    "            data_grid[i][j],  data_grid[i2][j2] =   data_grid[i2][j2],  data_grid[i][j]\n",
    "            reward_update(reward_grid,data_grid,i,j, width)\n",
    "            reward_update(reward_grid,data_grid,i2,j2, width)\n",
    "            return tot_reward, 0"
   ]
  },
  {
   "cell_type": "code",
   "execution_count": 11,
   "metadata": {},
   "outputs": [],
   "source": [
    "def reward_update(grid_reward,gridworld,x,y, width):\n",
    "    x_update = [x-1,x,x+1,x,x]\n",
    "    y_update = [y,y,y,y-1,y+1]\n",
    "    for i, j in zip(x_update, y_update):\n",
    "        reward=[]\n",
    "        #print(\"i=\",i,\"j=\",j)\n",
    "        if i < 0 or i > width-1 or j < 0 or j> width-1:\n",
    "           # print(\"i=\",i,\"j=\",j)\n",
    "            continue\n",
    "        if j%width == width-1:\n",
    "            if i == 0:\n",
    "                reward.append(0)\n",
    "                reward.append(reward_func(gridworld[i][j][0],gridworld[i+1][j][0]))                       \n",
    "                reward.append(reward_func(gridworld[i][j][0],gridworld[i][j-1][0]))\n",
    "                reward.append(0)\n",
    "            elif i == width-1:\n",
    "                reward.append(reward_func(gridworld[i][j][0],gridworld[i-1][j][0]))\n",
    "                reward.append(0)                        \n",
    "                reward.append(reward_func(gridworld[i][j][0],gridworld[i][j-1][0]))\n",
    "                reward.append(0)  \n",
    "            else:\n",
    "                reward.append(reward_func(gridworld[i][j][0],gridworld[i-1][j][0]))\n",
    "                reward.append(reward_func(gridworld[i][j][0],gridworld[i+1][j][0]))                       \n",
    "                reward.append(reward_func(gridworld[i][j][0],gridworld[i][j-1][0]))\n",
    "                reward.append(0)       \n",
    "        elif j%width == 0:\n",
    "            if i == 0:\n",
    "                reward.append(0)\n",
    "                reward.append(reward_func(gridworld[i][j][0],gridworld[i+1][j][0]))                        \n",
    "                reward.append(0)\n",
    "                reward.append(reward_func(gridworld[i][j][0],gridworld[i][j+1][0]))  \n",
    "            elif i == width-1:\n",
    "                reward.append(reward_func(gridworld[i][j][0],gridworld[i-1][j][0]))\n",
    "                reward.append(0)                        \n",
    "                reward.append(0)\n",
    "                reward.append(reward_func(gridworld[i][j][0],gridworld[i][j+1][0]))  \n",
    "            else:\n",
    "                reward.append(reward_func(gridworld[i][j][0],gridworld[i-1][j][0]))\n",
    "                reward.append(reward_func(gridworld[i][j][0],gridworld[i+1][j][0]))                        \n",
    "                reward.append(0)\n",
    "                reward.append(reward_func(gridworld[i][j][0],gridworld[i][j+1][0]))    \n",
    "        else: \n",
    "            if i == 0:\n",
    "                reward.append(0)\n",
    "                reward.append(reward_func(gridworld[i][j][0],gridworld[i+1][j][0]))                       \n",
    "                reward.append(reward_func(gridworld[i][j][0],gridworld[i][j-1][0]))\n",
    "                reward.append(reward_func(gridworld[i][j][0],gridworld[i][j+1][0]))\n",
    "            elif i == width-1:\n",
    "                reward.append(reward_func(gridworld[i][j][0],gridworld[i-1][j][0]))\n",
    "                reward.append(0)                        \n",
    "                reward.append(reward_func(gridworld[i][j][0],gridworld[i][j-1][0]))\n",
    "                reward.append(reward_func(gridworld[i][j][0],gridworld[i][j+1][0]))\n",
    "            else:\n",
    "                reward.append(reward_func(gridworld[i][j][0],gridworld[i-1][j][0]))\n",
    "                reward.append(reward_func(gridworld[i][j][0],gridworld[i+1][j][0]))                       \n",
    "                reward.append(reward_func(gridworld[i][j][0],gridworld[i][j-1][0]))\n",
    "                reward.append(reward_func(gridworld[i][j][0],gridworld[i][j+1][0]))   \n",
    "        grid_reward[i][j] = reward"
   ]
  },
  {
   "cell_type": "code",
   "execution_count": 13,
   "metadata": {
    "scrolled": true
   },
   "outputs": [
    {
     "name": "stdout",
     "output_type": "stream",
     "text": [
      "808.1240000000001\n",
      "0.6380652137540963 839.5200000000001\n",
      "0.67250802626283 844.9\n",
      "0.7036731562204706 845.1860000000001\n",
      "0.7318725178443317 860.1300000000001\n",
      "0.7573883426483397 863.5559999999999\n",
      "0.780476004139156 860.742\n",
      "0.8013665737056469 862.0240000000001\n",
      "0.8202691332821546 872.8960000000001\n",
      "0.8373728679317141 878.2720000000002\n",
      "0.8528489592927013 883.982\n",
      "0.866852298839354 887.3880000000001\n",
      "0.8795230381032203 883.796\n",
      "0.8909879913708328 894.624\n",
      "0.9013619048964144 885.202\n",
      "0.9107486053324516 898.6560000000001\n",
      "0.9192420388721302 907.9680000000001\n",
      "0.9269272115038236 908.3400000000001\n",
      "0.9338810397881107 897.886\n",
      "0.9401731206722711 917.3480000000001\n",
      "0.9458664280468974 919.558\n",
      "0.9510179430160663 910.3900000000001\n",
      "0.9556792241890882 937.0820000000001\n",
      "0.9598969237015627 937.408\n",
      "0.9637132541303047 934.5520000000001\n",
      "0.967166410975231 932.08\n",
      "0.970290954936586 945.472\n",
      "0.9731181578135083 940.98\n",
      "0.97567631548584 942.572\n",
      "0.9779910311116368 948.482\n",
      "0.9800854713747438 948.476\n",
      "0.981980598347075 960.7639999999999\n",
      "0.9836953792861737 955.7919999999999\n",
      "0.9852469764678018 959.75\n",
      "0.9866509189534827 973.78\n",
      "0.9879212580121238 985.018\n",
      "0.9890707077512465 972.946\n",
      "0.990110772365321 996.0559999999999\n",
      "0.9910518612747634 991.128\n",
      "0.991903393307957 987.6800000000001\n",
      "0.9926738909689956 988.7139999999999\n",
      "0.9933710657346232 1018.4839999999999\n",
      "0.9940018952340567 1014.0899999999999\n",
      "0.9945726930841444 1008.9\n",
      "0.9950891720787972 1026.658\n",
      "0.9955565013651226 1024.6299999999999\n",
      "0.9959793581785042 1027.3619999999999\n",
      "0.996361974654414 1039.562\n",
      "0.9967081801854704 1038.7259999999999\n",
      "0.9970214397476704 1047.7\n",
      "0.9973048885793814 1029.924\n",
      "0.9975613635601738 1053.76\n",
      "0.99779343160355 1051.4379999999999\n",
      "0.9980034153477348 1056.282\n",
      "0.9981934164016514 1063.638\n",
      "0.9983653363787408 1067.368\n",
      "0.9985208959291391 1069.6619999999998\n",
      "0.9986616519606937 1072.114\n",
      "0.9987890132211776 1081.4279999999999\n",
      "0.9989042543976508 1076.7259999999999\n",
      "0.9990085288740846 1079.054\n",
      "0.9991028802749321 1093.774\n",
      "0.9991882529101764 1096.32\n",
      "0.9992655012263975 1095.308\n",
      "0.9993353983584456 1094.9679999999998\n",
      "0.9993986438673134 1091.75\n",
      "0.999455870741646 1103.2259999999999\n",
      "0.9995076517329687 1108.2079999999999\n",
      "0.9995545050880338 1106.136\n",
      "0.9995968997356597 1106.462\n",
      "0.9996352599799758 1118.4099999999999\n",
      "0.999669969747043 1124.328\n",
      "0.9997013764273533 1121.2839999999999\n",
      "0.9997297943526654 1127.966\n",
      "0.9997555079419738 1127.464\n",
      "0.9997787745480986 1127.5499999999997\n",
      "0.9997998270333848 1129.436\n",
      "0.9998188761002899 1134.0259999999998\n",
      "0.9998361124001859 1131.6839999999997\n",
      "0.9998517084414823 1126.998\n",
      "0.9998658203161646 1128.058\n",
      "0.9998785892620312 1134.1499999999999\n",
      "0.9998901430762632 1138.5539999999999\n",
      "0.9999005973944743 1136.4859999999999\n",
      "0.9999100568480419 1140.0939999999998\n",
      "0.9999186161113044 1144.982\n",
      "0.9999263608491028 1146.9499999999998\n",
      "0.9999333685741517 1148.2599999999998\n",
      "0.9999397094228208 1149.1819999999998\n",
      "0.9999454468570901 1150.0459999999998\n",
      "0.9999506382997047 1150.936\n",
      "0.9999553357088872 1151.898\n",
      "0.9999595860983581 1152.716\n",
      "0.9999634320078696 1154.5099999999998\n",
      "0.9999669119289621 1155.62\n",
      "0.9999700606902041 1156.2099999999998\n",
      "0.9999729098057717 1156.5599999999997\n",
      "0.9999754877908565 1154.936\n",
      "0.9999778204470581 1156.1879999999996\n",
      "0.9999799311206173 1156.478\n",
      "0.9999818409360761 1156.7799999999997\n",
      "0.9999835690077007 1156.7820000000002\n",
      "0.9999851326307859 1157.704\n",
      "0.9999865474547536 1158.004\n",
      "0.9999878276397794 1159.502\n",
      "0.9999889859985137 1160.118\n",
      "1160.5179999999998\n"
     ]
    }
   ],
   "source": [
    "width = 20\n",
    "id_length = 2\n",
    "max_bicluster_width = 20\n",
    "beta = 0.4\n",
    "stop_value = 10000\n",
    "\n",
    "data = initial_dataset(width,id_length,max_bicluster_width)\n",
    "data_grid = gen_gridworld(width, data)\n",
    "reward_grid = gen_reward_grid(data_grid,width)\n",
    "tot_reward = total_reward(reward_grid)\n",
    "print(tot_reward)\n",
    "stop = 0\n",
    "iteration = 0\n",
    "alpha = 0.99999\n",
    "while stop < stop_value:\n",
    "    iteration = iteration + 1\n",
    "    tot_reward, update_bool = hilclimb(tot_reward,reward_grid,data_grid,width,alpha, beta, iteration)\n",
    "    P_k = 1.0-beta*alpha**iteration\n",
    "    if update_bool == 1:\n",
    "        stop = 0\n",
    "    else:\n",
    "        stop = stop+1\n",
    "    if iteration % 10000 == 0:\n",
    "        print(P_k, tot_reward)\n",
    "    if 1 - P_k < 1e-5:\n",
    "        break\n",
    "    #print(\"real: \", total_reward(gen_reward_grid(data_grid,width)))\n",
    "print(tot_reward)"
   ]
  },
  {
   "cell_type": "code",
   "execution_count": 14,
   "metadata": {},
   "outputs": [
    {
     "data": {
      "text/plain": [
       "1160.5179999999998"
      ]
     },
     "execution_count": 14,
     "metadata": {},
     "output_type": "execute_result"
    }
   ],
   "source": [
    "total_reward(gen_reward_grid(data_grid,width))"
   ]
  },
  {
   "cell_type": "code",
   "execution_count": 15,
   "metadata": {},
   "outputs": [
    {
     "data": {
      "text/plain": [
       "[[42, 69, 71, 170, 320, 461, 493, 518, 547, 755],\n",
       " [48,\n",
       "  99,\n",
       "  228,\n",
       "  259,\n",
       "  279,\n",
       "  314,\n",
       "  397,\n",
       "  417,\n",
       "  459,\n",
       "  508,\n",
       "  509,\n",
       "  510,\n",
       "  799,\n",
       "  833,\n",
       "  841,\n",
       "  898,\n",
       "  900,\n",
       "  911,\n",
       "  938,\n",
       "  968,\n",
       "  989,\n",
       "  1160,\n",
       "  1181,\n",
       "  1483,\n",
       "  1561,\n",
       "  1914,\n",
       "  2020,\n",
       "  2055,\n",
       "  2166,\n",
       "  2633]]"
      ]
     },
     "execution_count": 15,
     "metadata": {},
     "output_type": "execute_result"
    }
   ],
   "source": [
    "data_grid[0][1]"
   ]
  },
  {
   "cell_type": "code",
   "execution_count": 16,
   "metadata": {},
   "outputs": [],
   "source": [
    "import pickle\n",
    "\n",
    "f1 = open(\"dic\", \"rb\")\n",
    "f2 = open(\"dic_inv\", \"rb\")\n",
    "dic = pickle.load(f1)\n",
    "dic_inv = pickle.load(f2)\n",
    "f1.close()\n",
    "f2.close()"
   ]
  },
  {
   "cell_type": "code",
   "execution_count": 17,
   "metadata": {},
   "outputs": [],
   "source": [
    "real_grid = [[[data_grid[k][j][0], [dic_inv[i] for i in data_grid[j][k][1]]] for j in range(width)] for k in range(width)]"
   ]
  },
  {
   "cell_type": "code",
   "execution_count": 18,
   "metadata": {},
   "outputs": [],
   "source": [
    "f = open(\"grid\", \"wb\")\n",
    "pickle.dump(real_grid, f)\n",
    "f.close()"
   ]
  },
  {
   "cell_type": "code",
   "execution_count": 19,
   "metadata": {},
   "outputs": [
    {
     "data": {
      "text/plain": [
       "True"
      ]
     },
     "execution_count": 19,
     "metadata": {},
     "output_type": "execute_result"
    }
   ],
   "source": [
    "f = open(\"grid\", \"rb\")\n",
    "pickle.load(f) == real_grid"
   ]
  },
  {
   "cell_type": "code",
   "execution_count": null,
   "metadata": {},
   "outputs": [],
   "source": []
  }
 ],
 "metadata": {
  "kernelspec": {
   "display_name": "Python 3",
   "language": "python",
   "name": "python3"
  },
  "language_info": {
   "codemirror_mode": {
    "name": "ipython",
    "version": 3
   },
   "file_extension": ".py",
   "mimetype": "text/x-python",
   "name": "python",
   "nbconvert_exporter": "python",
   "pygments_lexer": "ipython3",
   "version": "3.7.6"
  }
 },
 "nbformat": 4,
 "nbformat_minor": 2
}
