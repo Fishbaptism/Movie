{
 "cells": [
  {
   "cell_type": "code",
   "execution_count": 1,
   "metadata": {},
   "outputs": [],
   "source": [
    "import random\n",
    "import numpy as np\n",
    "import math\n",
    "import pandas as pd"
   ]
  },
  {
   "cell_type": "code",
   "execution_count": 2,
   "metadata": {},
   "outputs": [
    {
     "data": {
      "text/plain": [
       "[12,\n",
       " 17,\n",
       " 40,\n",
       " 42,\n",
       " 69,\n",
       " 176,\n",
       " 216,\n",
       " 320,\n",
       " 358,\n",
       " 439,\n",
       " 445,\n",
       " 493,\n",
       " 518,\n",
       " 540,\n",
       " 547,\n",
       " 571,\n",
       " 580,\n",
       " 590,\n",
       " 596,\n",
       " 641,\n",
       " 694,\n",
       " 706,\n",
       " 755,\n",
       " 794]"
      ]
     },
     "execution_count": 2,
     "metadata": {},
     "output_type": "execute_result"
    }
   ],
   "source": [
    "with open('rowZip.csv', 'r') as file:\n",
    "    rows = file.readlines()\n",
    "rows = [[int(st) for st in row.split(',')] for row in rows]\n",
    "rows[0]"
   ]
  },
  {
   "cell_type": "code",
   "execution_count": 3,
   "metadata": {},
   "outputs": [
    {
     "data": {
      "text/plain": [
       "[4, 5, 6, 8, 9, 11, 14, 18, 39, 51, 58, 70, 85, 136]"
      ]
     },
     "execution_count": 3,
     "metadata": {},
     "output_type": "execute_result"
    }
   ],
   "source": [
    "with open('colZip.csv', 'r') as file:\n",
    "    cols = file.readlines()\n",
    "cols = [[int(st) for st in col.split(',')] for col in cols]\n",
    "cols[0]"
   ]
  },
  {
   "cell_type": "markdown",
   "metadata": {},
   "source": [
    "def user_ranstr(num):\n",
    "    userID = ''\n",
    "    H = 'AB'\n",
    "    userID += random.choice(H)\n",
    "    H = '0123456789'\n",
    "    for i in range(num-1):\n",
    "        userID += random.choice(H)\n",
    "    return userID\n"
   ]
  },
  {
   "cell_type": "markdown",
   "metadata": {},
   "source": [
    "def item_ranstr(num):\n",
    "    itemID = ''\n",
    "    H = 'def'\n",
    "    itemID += random.choice(H)\n",
    "    H = '0123456789'\n",
    "    for i in range(num-1):\n",
    "        itemID += random.choice(H)\n",
    "    return itemID"
   ]
  },
  {
   "cell_type": "code",
   "execution_count": 4,
   "metadata": {},
   "outputs": [],
   "source": [
    "def initial_dataset(n,num,num2):\n",
    "    #n: grid width, num: length of user/item ID , num2: max_bicluster_width\n",
    "    bicluster = []\n",
    "    for i in range(n*n):\n",
    "        '''num_user = random.randrange(num2)\n",
    "        num_item = random.randrange(num2)\n",
    "        userID = []\n",
    "        itemID = []\n",
    "        j = 0\n",
    "        k = 0\n",
    "        while j < num_user:\n",
    "            try:\n",
    "                user = user_ranstr(num)\n",
    "                userID.index(user)\n",
    "            except:\n",
    "                userID.append(user)\n",
    "                j= j + 1 \n",
    "        while k < num_item:\n",
    "            try:\n",
    "                item = item_ranstr(num)\n",
    "                itemID.index(item)\n",
    "            except:\n",
    "                itemID.append(item)\n",
    "                k = k + 1'''\n",
    "        userID = rows[i]\n",
    "        itemID = cols[i]\n",
    "        single_set = [userID,itemID]\n",
    "        bicluster.append(single_set)\n",
    "    return bicluster"
   ]
  },
  {
   "cell_type": "code",
   "execution_count": 5,
   "metadata": {},
   "outputs": [],
   "source": [
    "def reward_func(set1,set2):   \n",
    "    intersection = 0\n",
    "    for i in range(len(set2)):\n",
    "        try:\n",
    "            set1.index(set2[i])\n",
    "            intersection = intersection + 1\n",
    "     #       print(set2[i])\n",
    "        except:\n",
    "            pass \n",
    "   ## print(\"交:\",intersection)\n",
    "   # print(\"並:\",(len(set1)+len(set2)-intersection))\n",
    "    try:\n",
    "        reward = intersection/(len(set1)+len(set2)-intersection)\n",
    "    except:\n",
    "        reward = 1\n",
    "    return round(reward,3)"
   ]
  },
  {
   "cell_type": "code",
   "execution_count": 6,
   "metadata": {},
   "outputs": [],
   "source": [
    "def gen_gridworld(width, data):\n",
    "    left_num = width*width\n",
    "    gridworld = [[0 for col in range(width)] for row in range(width)]\n",
    "    for i in range(width):\n",
    "        for j in range(width):\n",
    "            num = random.randrange(left_num)\n",
    "            gridworld[i][j] = data[num]\n",
    "            data.remove( data[num])\n",
    "            left_num = left_num - 1\n",
    "    return gridworld"
   ]
  },
  {
   "cell_type": "code",
   "execution_count": 7,
   "metadata": {},
   "outputs": [],
   "source": [
    "def gen_reward_grid(gridworld,width):\n",
    "    grid_reward = [[0 for col in range(width)] for row in range(width)]\n",
    "    for i in range(width):\n",
    "        for j in range(width):\n",
    "            reward=[]\n",
    "            #print(\"i=\",i,\"j=\",j)\n",
    "            if j%width == width-1:\n",
    "                if i == 0:\n",
    "                    reward.append(0)\n",
    "                    reward.append(reward_func(gridworld[i][j][0],gridworld[i+1][j][0]))                       \n",
    "                    reward.append(reward_func(gridworld[i][j][0],gridworld[i][j-1][0]))\n",
    "                    reward.append(0)\n",
    "                elif i == width-1:\n",
    "                    reward.append(reward_func(gridworld[i][j][0],gridworld[i-1][j][0]))\n",
    "                    reward.append(0)                        \n",
    "                    reward.append(reward_func(gridworld[i][j][0],gridworld[i][j-1][0]))\n",
    "                    reward.append(0)  \n",
    "                else:\n",
    "                    reward.append(reward_func(gridworld[i][j][0],gridworld[i-1][j][0]))\n",
    "                    reward.append(reward_func(gridworld[i][j][0],gridworld[i+1][j][0]))                       \n",
    "                    reward.append(reward_func(gridworld[i][j][0],gridworld[i][j-1][0]))\n",
    "                    reward.append(0)       \n",
    "            elif j%width == 0:\n",
    "                if i == 0:\n",
    "                    reward.append(0)\n",
    "                    reward.append(reward_func(gridworld[i][j][0],gridworld[i+1][j][0]))                        \n",
    "                    reward.append(0)\n",
    "                    reward.append(reward_func(gridworld[i][j][0],gridworld[i][j+1][0]))  \n",
    "                elif i == width-1:\n",
    "                    reward.append(reward_func(gridworld[i][j][0],gridworld[i-1][j][0]))\n",
    "                    reward.append(0)                        \n",
    "                    reward.append(0)\n",
    "                    reward.append(reward_func(gridworld[i][j][0],gridworld[i][j+1][0]))  \n",
    "                else:\n",
    "                    reward.append(reward_func(gridworld[i][j][0],gridworld[i-1][j][0]))\n",
    "                    reward.append(reward_func(gridworld[i][j][0],gridworld[i+1][j][0]))                        \n",
    "                    reward.append(0)\n",
    "                    reward.append(reward_func(gridworld[i][j][0],gridworld[i][j+1][0]))    \n",
    "            else: \n",
    "                if i == 0:\n",
    "                    reward.append(0)\n",
    "                    reward.append(reward_func(gridworld[i][j][0],gridworld[i+1][j][0]))                       \n",
    "                    reward.append(reward_func(gridworld[i][j][0],gridworld[i][j-1][0]))\n",
    "                    reward.append(reward_func(gridworld[i][j][0],gridworld[i][j+1][0]))\n",
    "                elif i == width-1:\n",
    "                    reward.append(reward_func(gridworld[i][j][0],gridworld[i-1][j][0]))\n",
    "                    reward.append(0)                        \n",
    "                    reward.append(reward_func(gridworld[i][j][0],gridworld[i][j-1][0]))\n",
    "                    reward.append(reward_func(gridworld[i][j][0],gridworld[i][j+1][0]))\n",
    "                else:\n",
    "                    reward.append(reward_func(gridworld[i][j][0],gridworld[i-1][j][0]))\n",
    "                    reward.append(reward_func(gridworld[i][j][0],gridworld[i+1][j][0]))                       \n",
    "                    reward.append(reward_func(gridworld[i][j][0],gridworld[i][j-1][0]))\n",
    "                    reward.append(reward_func(gridworld[i][j][0],gridworld[i][j+1][0]))   \n",
    "            grid_reward[i][j] = reward\n",
    "    return grid_reward"
   ]
  },
  {
   "cell_type": "code",
   "execution_count": 8,
   "metadata": {},
   "outputs": [],
   "source": [
    "def total_reward(grid_reward):\n",
    "    return np.sum(grid_reward)"
   ]
  },
  {
   "cell_type": "code",
   "execution_count": 9,
   "metadata": {},
   "outputs": [],
   "source": [
    "def hilclimb(tot_reward,reward_grid,data_grid,width,alpha, beta,iteration):\n",
    "    i = random.randrange(width)\n",
    "    j = random.randrange(width)\n",
    "    i2 = random.randrange(width)\n",
    "    j2 = random.randrange(width)\n",
    "    data_grid[i][j], data_grid[i2][j2] =  data_grid[i2][j2], data_grid[i][j]\n",
    "    reward_update(reward_grid,data_grid,i,j, width)\n",
    "    reward_update(reward_grid,data_grid,i2,j2, width)\n",
    "    new_tot_reward = total_reward(reward_grid)\n",
    "    P_k = 1.0-beta*alpha**iteration\n",
    "    #print(\"P_k:\",P_k)\n",
    "    backfire = random.random()\n",
    "   # print(\"backfire:\",backfire)\n",
    "    T = 10000000\n",
    "    flag = (iteration % T == 0)\n",
    "    if P_k < backfire:\n",
    "        if flag:\n",
    "            print(\"backfire,old:\",tot_reward,\" new:\",new_tot_reward)\n",
    "        return new_tot_reward, 1\n",
    "    else: \n",
    "        if new_tot_reward > tot_reward:\n",
    "            if flag:\n",
    "                print(\"update:\",new_tot_reward)\n",
    "            return new_tot_reward, 1\n",
    "        else:\n",
    "            if flag:\n",
    "                print(\"non_update:\",tot_reward,\" new:F\",new_tot_reward)\n",
    "            data_grid[i][j],  data_grid[i2][j2] =   data_grid[i2][j2],  data_grid[i][j]\n",
    "            reward_update(reward_grid,data_grid,i,j, width)\n",
    "            reward_update(reward_grid,data_grid,i2,j2, width)\n",
    "            return tot_reward, 0"
   ]
  },
  {
   "cell_type": "code",
   "execution_count": 10,
   "metadata": {},
   "outputs": [],
   "source": [
    "def reward_update(grid_reward,gridworld,x,y, width):\n",
    "    x_update = [x-1,x,x+1,x,x]\n",
    "    y_update = [y,y,y,y-1,y+1]\n",
    "    for i, j in zip(x_update, y_update):\n",
    "        reward=[]\n",
    "        #print(\"i=\",i,\"j=\",j)\n",
    "        if i < 0 or i > width-1 or j < 0 or j> width-1:\n",
    "           # print(\"i=\",i,\"j=\",j)\n",
    "            continue\n",
    "        if j%width == width-1:\n",
    "            if i == 0:\n",
    "                reward.append(0)\n",
    "                reward.append(reward_func(gridworld[i][j][0],gridworld[i+1][j][0]))                       \n",
    "                reward.append(reward_func(gridworld[i][j][0],gridworld[i][j-1][0]))\n",
    "                reward.append(0)\n",
    "            elif i == width-1:\n",
    "                reward.append(reward_func(gridworld[i][j][0],gridworld[i-1][j][0]))\n",
    "                reward.append(0)                        \n",
    "                reward.append(reward_func(gridworld[i][j][0],gridworld[i][j-1][0]))\n",
    "                reward.append(0)  \n",
    "            else:\n",
    "                reward.append(reward_func(gridworld[i][j][0],gridworld[i-1][j][0]))\n",
    "                reward.append(reward_func(gridworld[i][j][0],gridworld[i+1][j][0]))                       \n",
    "                reward.append(reward_func(gridworld[i][j][0],gridworld[i][j-1][0]))\n",
    "                reward.append(0)       \n",
    "        elif j%width == 0:\n",
    "            if i == 0:\n",
    "                reward.append(0)\n",
    "                reward.append(reward_func(gridworld[i][j][0],gridworld[i+1][j][0]))                        \n",
    "                reward.append(0)\n",
    "                reward.append(reward_func(gridworld[i][j][0],gridworld[i][j+1][0]))  \n",
    "            elif i == width-1:\n",
    "                reward.append(reward_func(gridworld[i][j][0],gridworld[i-1][j][0]))\n",
    "                reward.append(0)                        \n",
    "                reward.append(0)\n",
    "                reward.append(reward_func(gridworld[i][j][0],gridworld[i][j+1][0]))  \n",
    "            else:\n",
    "                reward.append(reward_func(gridworld[i][j][0],gridworld[i-1][j][0]))\n",
    "                reward.append(reward_func(gridworld[i][j][0],gridworld[i+1][j][0]))                        \n",
    "                reward.append(0)\n",
    "                reward.append(reward_func(gridworld[i][j][0],gridworld[i][j+1][0]))    \n",
    "        else: \n",
    "            if i == 0:\n",
    "                reward.append(0)\n",
    "                reward.append(reward_func(gridworld[i][j][0],gridworld[i+1][j][0]))                       \n",
    "                reward.append(reward_func(gridworld[i][j][0],gridworld[i][j-1][0]))\n",
    "                reward.append(reward_func(gridworld[i][j][0],gridworld[i][j+1][0]))\n",
    "            elif i == width-1:\n",
    "                reward.append(reward_func(gridworld[i][j][0],gridworld[i-1][j][0]))\n",
    "                reward.append(0)                        \n",
    "                reward.append(reward_func(gridworld[i][j][0],gridworld[i][j-1][0]))\n",
    "                reward.append(reward_func(gridworld[i][j][0],gridworld[i][j+1][0]))\n",
    "            else:\n",
    "                reward.append(reward_func(gridworld[i][j][0],gridworld[i-1][j][0]))\n",
    "                reward.append(reward_func(gridworld[i][j][0],gridworld[i+1][j][0]))                       \n",
    "                reward.append(reward_func(gridworld[i][j][0],gridworld[i][j-1][0]))\n",
    "                reward.append(reward_func(gridworld[i][j][0],gridworld[i][j+1][0]))   \n",
    "        grid_reward[i][j] = reward"
   ]
  },
  {
   "cell_type": "code",
   "execution_count": 11,
   "metadata": {
    "scrolled": true
   },
   "outputs": [
    {
     "name": "stdout",
     "output_type": "stream",
     "text": [
      "742.904\n"
     ]
    }
   ],
   "source": [
    "width = 20\n",
    "id_length = 2\n",
    "max_bicluster_width = 20\n",
    "beta = 0.4\n",
    "stop_value = 10000\n",
    "\n",
    "data = initial_dataset(width,id_length,max_bicluster_width)\n",
    "data_grid = gen_gridworld(width, data)\n",
    "reward_grid = gen_reward_grid(data_grid,width)\n",
    "tot_reward = total_reward(reward_grid)\n",
    "print(tot_reward)\n",
    "stop = 0\n",
    "alpha = 0.99999\n",
    "iteration = 0"
   ]
  },
  {
   "cell_type": "code",
   "execution_count": 12,
   "metadata": {},
   "outputs": [
    {
     "data": {
      "text/plain": [
       "10000"
      ]
     },
     "execution_count": 12,
     "metadata": {},
     "output_type": "execute_result"
    }
   ],
   "source": [
    "stop_value"
   ]
  },
  {
   "cell_type": "code",
   "execution_count": null,
   "metadata": {},
   "outputs": [
    {
     "name": "stdout",
     "output_type": "stream",
     "text": [
      "0.6380652137540963 804.0219999999999\n",
      "0.67250802626283 794.968\n",
      "0.7036731562204706 787.8140000000001\n",
      "0.7318725178443317 795.678\n",
      "0.7573883426483397 807.816\n",
      "0.780476004139156 817.244\n",
      "0.8013665737056469 805.316\n",
      "0.8202691332821546 816.662\n",
      "0.8373728679317141 840.034\n",
      "0.8528489592927013 831.412\n",
      "0.866852298839354 823.47\n",
      "0.8795230381032203 842.786\n",
      "0.8909879913708328 853.0540000000001\n",
      "0.9013619048964144 864.2919999999999\n",
      "0.9107486053324516 854.8399999999999\n",
      "0.9192420388721302 874.402\n",
      "0.9269272115038236 872.578\n",
      "0.9338810397881107 877.9939999999999\n",
      "0.9401731206722711 880.452\n",
      "0.9458664280468974 860.374\n",
      "0.9510179430160663 895.4259999999999\n",
      "0.9556792241890882 908.13\n",
      "0.9598969237015627 916.114\n",
      "0.9637132541303047 919.562\n",
      "0.967166410975231 923.174\n",
      "0.970290954936586 925.164\n",
      "0.9731181578135083 931.144\n",
      "0.97567631548584 953.7840000000001\n",
      "0.9779910311116368 953.488\n",
      "0.9800854713747438 966.2\n",
      "0.981980598347075 956.6020000000001\n",
      "0.9836953792861737 972.7440000000001\n",
      "0.9852469764678018 992.642\n",
      "0.9866509189534827 986.8760000000001\n",
      "0.9879212580121238 1005.4359999999999\n",
      "0.9890707077512465 979.254\n",
      "0.990110772365321 1009.8919999999999\n",
      "0.9910518612747634 1012.84\n",
      "0.991903393307957 995.978\n",
      "0.9926738909689956 1025.56\n",
      "0.9933710657346232 1021.2520000000001\n",
      "0.9940018952340567 1039.7400000000002\n",
      "0.9945726930841444 1056.3180000000002\n",
      "0.9950891720787972 1051.1620000000003\n",
      "0.9955565013651226 1074.08\n",
      "0.9959793581785042 1079.468\n",
      "0.996361974654414 1070.586\n",
      "0.9967081801854704 1072.058\n",
      "0.9970214397476704 1090.7939999999999\n",
      "0.9973048885793814 1081.962\n",
      "0.9975613635601738 1086.116\n",
      "0.99779343160355 1104.92\n",
      "0.9980034153477348 1105.992\n",
      "0.9981934164016514 1121.8919999999998\n",
      "0.9983653363787408 1105.826\n",
      "0.9985208959291391 1125.56\n",
      "0.9986616519606937 1134.656\n",
      "0.9987890132211776 1138.642\n",
      "0.9989042543976508 1140.954\n",
      "0.9990085288740846 1141.6260000000002\n",
      "0.9991028802749321 1151.554\n",
      "0.9991882529101764 1151.0179999999998\n",
      "0.9992655012263975 1156.284\n",
      "0.9993353983584456 1164.202\n",
      "0.9993986438673134 1174.308\n",
      "0.999455870741646 1172.6\n",
      "0.9995076517329687 1173.8600000000001\n",
      "0.9995545050880338 1168.4920000000002\n",
      "0.9995968997356597 1172.1860000000001\n",
      "0.9996352599799758 1179.9520000000002\n",
      "0.999669969747043 1182.008\n",
      "0.9997013764273533 1188.3519999999999\n",
      "0.9997297943526654 1187.98\n",
      "0.9997555079419738 1189.526\n",
      "0.9997787745480986 1195.7740000000001\n",
      "0.9997998270333848 1200.98\n",
      "0.9998188761002899 1203.894\n",
      "0.9998361124001859 1201.334\n"
     ]
    }
   ],
   "source": [
    "while True:\n",
    "    iteration = iteration + 1\n",
    "    tot_reward, update_bool = hilclimb(tot_reward,reward_grid,data_grid,width,alpha, beta, iteration)\n",
    "    P_k = 1.0-beta*alpha**iteration\n",
    "    if update_bool == 1:\n",
    "        stop = 0\n",
    "    else:\n",
    "        stop = stop+1\n",
    "    if iteration % 10000 == 0:\n",
    "        print(P_k, tot_reward)\n",
    "    if 1 - P_k < 1e-7:\n",
    "        break\n",
    "    #print(\"real: \", total_reward(gen_reward_grid(data_grid,width)))\n",
    "print(tot_reward)"
   ]
  },
  {
   "cell_type": "code",
   "execution_count": null,
   "metadata": {},
   "outputs": [],
   "source": [
    "total_reward(gen_reward_grid(data_grid,width))"
   ]
  },
  {
   "cell_type": "code",
   "execution_count": null,
   "metadata": {},
   "outputs": [],
   "source": [
    "data_grid[0][1]"
   ]
  },
  {
   "cell_type": "code",
   "execution_count": null,
   "metadata": {},
   "outputs": [],
   "source": [
    "import pickle\n",
    "\n",
    "f1 = open(\"dic\", \"rb\")\n",
    "f2 = open(\"dic_inv\", \"rb\")\n",
    "dic = pickle.load(f1)\n",
    "dic_inv = pickle.load(f2)\n",
    "f1.close()\n",
    "f2.close()"
   ]
  },
  {
   "cell_type": "code",
   "execution_count": null,
   "metadata": {},
   "outputs": [],
   "source": [
    "real_grid = [[[data_grid[k][j][0], [dic_inv[i] for i in data_grid[j][k][1]]] for j in range(width)] for k in range(width)]"
   ]
  },
  {
   "cell_type": "code",
   "execution_count": null,
   "metadata": {},
   "outputs": [],
   "source": [
    "f = open(\"grid\", \"wb\")\n",
    "pickle.dump(real_grid, f)\n",
    "f.close()"
   ]
  },
  {
   "cell_type": "code",
   "execution_count": null,
   "metadata": {},
   "outputs": [],
   "source": [
    "f = open(\"grid\", \"rb\")\n",
    "pickle.load(f) == real_grid\n",
    "f.close()"
   ]
  },
  {
   "cell_type": "code",
   "execution_count": null,
   "metadata": {},
   "outputs": [],
   "source": []
  },
  {
   "cell_type": "code",
   "execution_count": null,
   "metadata": {},
   "outputs": [],
   "source": []
  }
 ],
 "metadata": {
  "kernelspec": {
   "display_name": "Python 3",
   "language": "python",
   "name": "python3"
  },
  "language_info": {
   "codemirror_mode": {
    "name": "ipython",
    "version": 3
   },
   "file_extension": ".py",
   "mimetype": "text/x-python",
   "name": "python",
   "nbconvert_exporter": "python",
   "pygments_lexer": "ipython3",
   "version": "3.7.6"
  }
 },
 "nbformat": 4,
 "nbformat_minor": 2
}
